{
  "cells": [
    {
      "cell_type": "markdown",
      "metadata": {
        "id": "nhQCfjWFSCJQ"
      },
      "source": [
        "#Question 1"
      ]
    },
    {
      "cell_type": "code",
      "execution_count": null,
      "metadata": {
        "id": "sAQM8JEVHhou"
      },
      "outputs": [],
      "source": [
        "#Libraries\n",
        "import tensorflow as tf\n",
        "import numpy as np\n",
        "import pandas as pd\n",
        "import matplotlib.pyplot as plt\n",
        "from sklearn.metrics import classification_report"
      ]
    },
    {
      "cell_type": "code",
      "execution_count": null,
      "metadata": {
        "colab": {
          "base_uri": "https://localhost:8080/"
        },
        "id": "epLOEvO-H7AR",
        "outputId": "a1ba3a17-7491-4869-96fc-ad6294367bd5"
      },
      "outputs": [
        {
          "name": "stdout",
          "output_type": "stream",
          "text": [
            "Downloading data from https://www.cs.toronto.edu/~kriz/cifar-10-python.tar.gz\n",
            "170498071/170498071 [==============================] - 3s 0us/step\n"
          ]
        }
      ],
      "source": [
        "#Data preperation\n",
        "from tensorflow.keras.datasets import cifar10\n",
        "(x_train, y_train), (x_test, y_test) = cifar10.load_data()"
      ]
    },
    {
      "cell_type": "code",
      "execution_count": null,
      "metadata": {
        "id": "Yzp-8xxhNplr"
      },
      "outputs": [],
      "source": []
    },
    {
      "cell_type": "markdown",
      "metadata": {
        "id": "iVVBeUOjJHuH"
      },
      "source": [
        "Simple NN network"
      ]
    },
    {
      "cell_type": "code",
      "execution_count": null,
      "metadata": {
        "id": "W2djibU4JAPx"
      },
      "outputs": [],
      "source": [
        "model = tf.keras.Sequential([\n",
        "    tf.keras.layers.experimental.preprocessing.Rescaling(1./255, input_shape=(32, 32, 3)),\n",
        "    tf.keras.layers.Flatten(),\n",
        "    tf.keras.layers.Dense(512, activation='relu'),\n",
        "    tf.keras.layers.Dense(10, activation='softmax')\n",
        "])"
      ]
    },
    {
      "cell_type": "code",
      "execution_count": null,
      "metadata": {
        "colab": {
          "base_uri": "https://localhost:8080/"
        },
        "id": "-aNOvkgdJMqX",
        "outputId": "7206ffc9-6f4d-400f-fadd-606a0965df63"
      },
      "outputs": [
        {
          "name": "stdout",
          "output_type": "stream",
          "text": [
            "Epoch 1/5\n",
            "1563/1563 [==============================] - 48s 30ms/step - loss: 1.8802 - accuracy: 0.3315\n",
            "Epoch 2/5\n",
            "1563/1563 [==============================] - 33s 21ms/step - loss: 1.6992 - accuracy: 0.3944\n",
            "Epoch 3/5\n",
            "1563/1563 [==============================] - 33s 21ms/step - loss: 1.6304 - accuracy: 0.4183\n",
            "Epoch 4/5\n",
            "1563/1563 [==============================] - 34s 22ms/step - loss: 1.5919 - accuracy: 0.4330\n",
            "Epoch 5/5\n",
            "1563/1563 [==============================] - 34s 22ms/step - loss: 1.5651 - accuracy: 0.4447\n"
          ]
        },
        {
          "data": {
            "text/plain": [
              "<keras.src.callbacks.History at 0x7e556cb5f640>"
            ]
          },
          "execution_count": 4,
          "metadata": {},
          "output_type": "execute_result"
        }
      ],
      "source": [
        "model.compile(optimizer = tf.keras.optimizers.Adam(learning_rate=0.001),\n",
        "              loss='SparseCategoricalCrossentropy',\n",
        "              metrics=['accuracy'])\n",
        "\n",
        "model.fit(x_train, y_train, epochs=5)"
      ]
    },
    {
      "cell_type": "code",
      "execution_count": null,
      "metadata": {
        "colab": {
          "base_uri": "https://localhost:8080/"
        },
        "id": "EgzTPEtTLd2O",
        "outputId": "26d3335b-d655-47b3-d7db-3b5788ba7f49"
      },
      "outputs": [
        {
          "name": "stdout",
          "output_type": "stream",
          "text": [
            "313/313 [==============================] - 2s 5ms/step\n"
          ]
        },
        {
          "data": {
            "text/plain": [
              "array([0.04098273, 0.01781931, 0.07890327, 0.36347684, 0.02526409,\n",
              "       0.18229859, 0.20877759, 0.00075244, 0.07736977, 0.00435547],\n",
              "      dtype=float32)"
            ]
          },
          "execution_count": 5,
          "metadata": {},
          "output_type": "execute_result"
        }
      ],
      "source": [
        "y_pred = model.predict(x_test)\n",
        "y_pred[0]"
      ]
    },
    {
      "cell_type": "code",
      "execution_count": null,
      "metadata": {
        "id": "QgY_HsZATNM-"
      },
      "outputs": [],
      "source": [
        "predictions = []\n",
        "for i in range(10000):\n",
        "  p = np.argmax(y_pred[i])\n",
        "  predictions.append(p)"
      ]
    },
    {
      "cell_type": "code",
      "execution_count": null,
      "metadata": {
        "colab": {
          "base_uri": "https://localhost:8080/"
        },
        "id": "4W2ThvW-T3Rt",
        "outputId": "c73424e0-644d-4bd9-e942-5150f5cc7edd"
      },
      "outputs": [
        {
          "name": "stdout",
          "output_type": "stream",
          "text": [
            "              precision    recall  f1-score   support\n",
            "\n",
            "           0       0.53      0.48      0.50      1000\n",
            "           1       0.55      0.58      0.57      1000\n",
            "           2       0.29      0.40      0.34      1000\n",
            "           3       0.36      0.16      0.22      1000\n",
            "           4       0.36      0.40      0.38      1000\n",
            "           5       0.35      0.42      0.38      1000\n",
            "           6       0.47      0.51      0.49      1000\n",
            "           7       0.58      0.44      0.50      1000\n",
            "           8       0.51      0.69      0.59      1000\n",
            "           9       0.57      0.42      0.48      1000\n",
            "\n",
            "    accuracy                           0.45     10000\n",
            "   macro avg       0.46      0.45      0.44     10000\n",
            "weighted avg       0.46      0.45      0.44     10000\n",
            "\n"
          ]
        }
      ],
      "source": [
        "print(classification_report(y_test,predictions))"
      ]
    },
    {
      "cell_type": "code",
      "execution_count": null,
      "metadata": {
        "colab": {
          "base_uri": "https://localhost:8080/"
        },
        "id": "mLQ7A4yMTY03",
        "outputId": "fae36bf0-941b-4366-be4d-4f000653c854"
      },
      "outputs": [
        {
          "data": {
            "text/plain": [
              "(10000, 10)"
            ]
          },
          "execution_count": 8,
          "metadata": {},
          "output_type": "execute_result"
        }
      ],
      "source": [
        "y_pred.shape"
      ]
    },
    {
      "cell_type": "code",
      "execution_count": null,
      "metadata": {
        "colab": {
          "base_uri": "https://localhost:8080/"
        },
        "id": "tVk1Tb3LKwNy",
        "outputId": "6ee3e8ae-7a51-4ae6-e33d-b38fecc09ea3"
      },
      "outputs": [
        {
          "name": "stdout",
          "output_type": "stream",
          "text": [
            "Epoch 1/5\n",
            "1563/1563 [==============================] - 16s 10ms/step - loss: 1.8886 - accuracy: 0.3217\n",
            "Epoch 2/5\n",
            "1563/1563 [==============================] - 15s 10ms/step - loss: 1.7163 - accuracy: 0.3864\n",
            "Epoch 3/5\n",
            "1563/1563 [==============================] - 15s 9ms/step - loss: 1.6608 - accuracy: 0.4085\n",
            "Epoch 4/5\n",
            "1563/1563 [==============================] - 15s 9ms/step - loss: 1.6259 - accuracy: 0.4238\n",
            "Epoch 5/5\n",
            "1563/1563 [==============================] - 15s 10ms/step - loss: 1.6006 - accuracy: 0.4324\n",
            "313/313 - 1s - loss: 1.6157 - accuracy: 0.4258 - 1s/epoch - 3ms/step\n",
            "0.42579999566078186\n"
          ]
        }
      ],
      "source": [
        "#changing the number of neurons in the NN layer\n",
        "model_2 = tf.keras.Sequential([\n",
        "    tf.keras.layers.experimental.preprocessing.Rescaling(1./255, input_shape=(32, 32, 3)),\n",
        "    tf.keras.layers.Flatten(),\n",
        "    tf.keras.layers.Dense(200, activation='relu'),\n",
        "    tf.keras.layers.Dense(10, activation='softmax')\n",
        "])\n",
        "\n",
        "model_2.compile(optimizer = tf.keras.optimizers.Adam(learning_rate=0.001),\n",
        "              loss='SparseCategoricalCrossentropy',\n",
        "              metrics=['accuracy'])\n",
        "\n",
        "model_2.fit(x_train, y_train, epochs=5)\n",
        "\n",
        "test_loss, test_acc = model_2.evaluate(x_test,  y_test, verbose=2)\n",
        "print(test_acc)"
      ]
    },
    {
      "cell_type": "code",
      "execution_count": null,
      "metadata": {
        "colab": {
          "base_uri": "https://localhost:8080/"
        },
        "id": "3uEUGo3uLMKa",
        "outputId": "54cfc74d-338e-4d75-d718-b6c4f54c7328"
      },
      "outputs": [
        {
          "name": "stdout",
          "output_type": "stream",
          "text": [
            "Epoch 1/5\n",
            "1563/1563 [==============================] - 87s 55ms/step - loss: 1.8484 - accuracy: 0.3355\n",
            "Epoch 2/5\n",
            "1563/1563 [==============================] - 75s 48ms/step - loss: 1.6612 - accuracy: 0.4037\n",
            "Epoch 3/5\n",
            "1563/1563 [==============================] - 76s 49ms/step - loss: 1.5808 - accuracy: 0.4352\n",
            "Epoch 4/5\n",
            "1563/1563 [==============================] - 76s 48ms/step - loss: 1.5388 - accuracy: 0.4509\n",
            "Epoch 5/5\n",
            "1563/1563 [==============================] - 75s 48ms/step - loss: 1.5045 - accuracy: 0.4602\n",
            "313/313 - 3s - loss: 1.5196 - accuracy: 0.4555 - 3s/epoch - 9ms/step\n",
            "0.4555000066757202\n"
          ]
        }
      ],
      "source": [
        "#varying the number of layers\n",
        "model_2 = tf.keras.Sequential([\n",
        "    tf.keras.layers.experimental.preprocessing.Rescaling(1./255, input_shape=(32, 32, 3)),\n",
        "    tf.keras.layers.Flatten(),\n",
        "    tf.keras.layers.Dense(1024, activation='relu'),\n",
        "    tf.keras.layers.Dense(512, activation='relu'),\n",
        "    tf.keras.layers.Dense(10, activation='softmax')\n",
        "])\n",
        "\n",
        "model_2.compile(optimizer = tf.keras.optimizers.Adam(learning_rate=0.001),\n",
        "              loss='SparseCategoricalCrossentropy',\n",
        "              metrics=['accuracy'])\n",
        "\n",
        "model_2.fit(x_train, y_train, epochs=5)\n",
        "\n",
        "test_loss, test_acc = model_2.evaluate(x_test,  y_test, verbose=2)\n",
        "print(test_acc)"
      ]
    },
    {
      "cell_type": "code",
      "execution_count": null,
      "metadata": {
        "colab": {
          "base_uri": "https://localhost:8080/"
        },
        "id": "aaAdfUaHLYd_",
        "outputId": "a90f5e7a-c7d7-42d8-b875-b891aa479662"
      },
      "outputs": [
        {
          "name": "stdout",
          "output_type": "stream",
          "text": [
            "Epoch 1/5\n",
            "1563/1563 [==============================] - 34s 21ms/step - loss: 27.6103 - accuracy: 0.1088\n",
            "Epoch 2/5\n",
            "1563/1563 [==============================] - 33s 21ms/step - loss: 27.6101 - accuracy: 0.1028\n",
            "Epoch 3/5\n",
            "1563/1563 [==============================] - 34s 22ms/step - loss: 27.6101 - accuracy: 0.0998\n",
            "Epoch 4/5\n",
            "1563/1563 [==============================] - 33s 21ms/step - loss: 27.6101 - accuracy: 0.0959\n",
            "Epoch 5/5\n",
            "1563/1563 [==============================] - 33s 21ms/step - loss: 27.6101 - accuracy: 0.0990\n",
            "313/313 - 2s - loss: 27.6100 - accuracy: 0.1002 - 2s/epoch - 8ms/step\n",
            "0.10019999742507935\n"
          ]
        }
      ],
      "source": [
        "#evaluating the model on mean square error loss function\n",
        "#changing loss from sparse categorical cross entropy to mean square error\n",
        "model.compile(optimizer='Adam',\n",
        "              loss=tf.keras.losses.MeanSquaredError(),\n",
        "              metrics=['accuracy']\n",
        "              )\n",
        "\n",
        "\n",
        "model.fit(x_train, y_train, epochs=5)\n",
        "\n",
        "test_loss, test_acc = model.evaluate(x_test,  y_test, verbose=2)\n",
        "print(test_acc)"
      ]
    },
    {
      "cell_type": "code",
      "execution_count": null,
      "metadata": {
        "colab": {
          "base_uri": "https://localhost:8080/"
        },
        "id": "iYXiX7JRPeeA",
        "outputId": "ed633b92-0c14-44b5-c164-502454d2190a"
      },
      "outputs": [
        {
          "name": "stdout",
          "output_type": "stream",
          "text": [
            "Epoch 1/5\n"
          ]
        },
        {
          "name": "stderr",
          "output_type": "stream",
          "text": [
            "/usr/local/lib/python3.10/dist-packages/keras/src/backend.py:5729: UserWarning: \"`sparse_categorical_crossentropy` received `from_logits=True`, but the `output` argument was produced by a Softmax activation and thus does not represent logits. Was this intended?\n",
            "  output, from_logits = _get_logits(\n"
          ]
        },
        {
          "name": "stdout",
          "output_type": "stream",
          "text": [
            "1563/1563 [==============================] - 17s 11ms/step - loss: 2.3027 - accuracy: 0.0967\n",
            "Epoch 2/5\n",
            "1563/1563 [==============================] - 17s 11ms/step - loss: 2.3027 - accuracy: 0.0987\n",
            "Epoch 3/5\n",
            "1563/1563 [==============================] - 17s 11ms/step - loss: 2.3027 - accuracy: 0.0980\n",
            "Epoch 4/5\n",
            "1563/1563 [==============================] - 16s 11ms/step - loss: 2.3027 - accuracy: 0.0987\n",
            "Epoch 5/5\n",
            "1563/1563 [==============================] - 17s 11ms/step - loss: 2.3027 - accuracy: 0.0968\n",
            "313/313 - 2s - loss: 2.3025 - accuracy: 0.1000 - 2s/epoch - 5ms/step\n",
            "0.10000000149011612\n"
          ]
        }
      ],
      "source": [
        "#changing the optimizer to SGD\n",
        "model.compile(optimizer='SGD',\n",
        "              loss=tf.keras.losses.SparseCategoricalCrossentropy(from_logits=True),\n",
        "              metrics=['accuracy'])\n",
        "\n",
        "\n",
        "model.fit(x_train, y_train, epochs=5)\n",
        "\n",
        "\n",
        "test_loss, test_acc = model.evaluate(x_test,  y_test, verbose=2)\n",
        "print(test_acc)"
      ]
    },
    {
      "cell_type": "code",
      "execution_count": null,
      "metadata": {
        "colab": {
          "base_uri": "https://localhost:8080/"
        },
        "id": "1JPnE3PnQKxS",
        "outputId": "32acde5a-a2ad-41f7-b9f1-2126f998dd53"
      },
      "outputs": [
        {
          "name": "stdout",
          "output_type": "stream",
          "text": [
            "Epoch 1/5\n",
            "1563/1563 [==============================] - 35s 21ms/step - loss: 2.4461 - accuracy: 0.1001\n",
            "Epoch 2/5\n",
            "1563/1563 [==============================] - 33s 21ms/step - loss: 2.3082 - accuracy: 0.1030\n",
            "Epoch 3/5\n",
            "1563/1563 [==============================] - 33s 21ms/step - loss: 2.3092 - accuracy: 0.0994\n",
            "Epoch 4/5\n",
            "1563/1563 [==============================] - 34s 22ms/step - loss: 2.3091 - accuracy: 0.0988\n",
            "Epoch 5/5\n",
            "1563/1563 [==============================] - 33s 21ms/step - loss: 2.3095 - accuracy: 0.0987\n",
            "313/313 - 2s - loss: 2.3059 - accuracy: 0.1000 - 2s/epoch - 5ms/step\n",
            "0.10000000149011612\n"
          ]
        }
      ],
      "source": [
        "#changing the learning rate\n",
        "\n",
        "model.compile(optimizer = tf.keras.optimizers.Adam(learning_rate=0.05),\n",
        "              loss='SparseCategoricalCrossentropy',\n",
        "              metrics=['accuracy'])\n",
        "\n",
        "model.fit(x_train, y_train, epochs=5)\n",
        "test_loss, test_acc = model.evaluate(x_test,  y_test, verbose=2)\n",
        "print(test_acc)"
      ]
    },
    {
      "cell_type": "markdown",
      "metadata": {
        "id": "PuOXPCFmSUww"
      },
      "source": [
        "# **CNN Implementation**"
      ]
    },
    {
      "cell_type": "code",
      "execution_count": null,
      "metadata": {
        "colab": {
          "base_uri": "https://localhost:8080/",
          "height": 1000
        },
        "id": "FTclcZhHSTfy",
        "outputId": "6d054cd4-0ed8-4382-beb4-55739a1bef44"
      },
      "outputs": [
        {
          "data": {
            "image/png": "[encoded data removed]",
            "text/plain": [
              "<IPython.core.display.Image object>"
            ]
          },
          "execution_count": 14,
          "metadata": {},
          "output_type": "execute_result"
        }
      ],
      "source": [
        "CNN_model = tf.keras.Sequential([\n",
        "    tf.keras.layers.Conv2D(32, (3, 3), activation='relu', input_shape=(32, 32, 3)),\n",
        "    tf.keras.layers.MaxPooling2D((2, 2)),\n",
        "    tf.keras.layers.Conv2D(64, (3, 3), activation='relu'),\n",
        "    tf.keras.layers.MaxPooling2D((2, 2)),\n",
        "    tf.keras.layers.Conv2D(128, (3, 3), activation='relu'),\n",
        "    tf.keras.layers.MaxPooling2D((2, 2)),\n",
        "    tf.keras.layers.Flatten(input_shape =(1,1,128)),\n",
        "    tf.keras.layers.Dense(128, activation='relu'),\n",
        "    tf.keras.layers.Dense(84, activation='relu'),\n",
        "    tf.keras.layers.Dense(10, activation='softmax'),\n",
        "])\n",
        "\n",
        "\n",
        "tf.keras.utils.plot_model(CNN_model, show_shapes=True)"
      ]
    },
    {
      "cell_type": "code",
      "execution_count": null,
      "metadata": {
        "colab": {
          "base_uri": "https://localhost:8080/"
        },
        "id": "J5UvbWykWARP",
        "outputId": "735503ac-5ce8-4cdc-c187-129d119fb4eb"
      },
      "outputs": [
        {
          "name": "stdout",
          "output_type": "stream",
          "text": [
            "Model: \"sequential_3\"\n",
            "_________________________________________________________________\n",
            " Layer (type)                Output Shape              Param #   \n",
            "=================================================================\n",
            " conv2d (Conv2D)             (None, 30, 30, 32)        896       \n",
            "                                                                 \n",
            " max_pooling2d (MaxPooling2  (None, 15, 15, 32)        0         \n",
            " D)                                                              \n",
            "                                                                 \n",
            " conv2d_1 (Conv2D)           (None, 13, 13, 64)        18496     \n",
            "                                                                 \n",
            " max_pooling2d_1 (MaxPoolin  (None, 6, 6, 64)          0         \n",
            " g2D)                                                            \n",
            "                                                                 \n",
            " conv2d_2 (Conv2D)           (None, 4, 4, 128)         73856     \n",
            "                                                                 \n",
            " max_pooling2d_2 (MaxPoolin  (None, 2, 2, 128)         0         \n",
            " g2D)                                                            \n",
            "                                                                 \n",
            " flatten_3 (Flatten)         (None, 512)               0         \n",
            "                                                                 \n",
            " dense_7 (Dense)             (None, 128)               65664     \n",
            "                                                                 \n",
            " dense_8 (Dense)             (None, 84)                10836     \n",
            "                                                                 \n",
            " dense_9 (Dense)             (None, 10)                850       \n",
            "                                                                 \n",
            "=================================================================\n",
            "Total params: 170598 (666.40 KB)\n",
            "Trainable params: 170598 (666.40 KB)\n",
            "Non-trainable params: 0 (0.00 Byte)\n",
            "_________________________________________________________________\n"
          ]
        }
      ],
      "source": [
        "CNN_model.summary()"
      ]
    },
    {
      "cell_type": "code",
      "execution_count": null,
      "metadata": {
        "colab": {
          "base_uri": "https://localhost:8080/"
        },
        "id": "1l6TyVhcWEVl",
        "outputId": "59e37677-6e4f-4168-b953-ea9e8b8ea130"
      },
      "outputs": [
        {
          "name": "stdout",
          "output_type": "stream",
          "text": [
            "Epoch 1/15\n",
            "1563/1563 [==============================] - 73s 46ms/step - loss: 1.6163 - accuracy: 0.4312 - val_loss: 1.4014 - val_accuracy: 0.4933\n",
            "Epoch 2/15\n",
            "1563/1563 [==============================] - 72s 46ms/step - loss: 1.2580 - accuracy: 0.5565 - val_loss: 1.2235 - val_accuracy: 0.5663\n",
            "Epoch 3/15\n",
            "1563/1563 [==============================] - 70s 45ms/step - loss: 1.1174 - accuracy: 0.6104 - val_loss: 1.1136 - val_accuracy: 0.6163\n",
            "Epoch 4/15\n",
            "1563/1563 [==============================] - 69s 44ms/step - loss: 1.0135 - accuracy: 0.6492 - val_loss: 1.0792 - val_accuracy: 0.6350\n",
            "Epoch 5/15\n",
            "1563/1563 [==============================] - 71s 45ms/step - loss: 0.9374 - accuracy: 0.6768 - val_loss: 1.0374 - val_accuracy: 0.6482\n",
            "Epoch 6/15\n",
            "1563/1563 [==============================] - 72s 46ms/step - loss: 0.8731 - accuracy: 0.6996 - val_loss: 1.0045 - val_accuracy: 0.6692\n",
            "Epoch 7/15\n",
            "1563/1563 [==============================] - 71s 45ms/step - loss: 0.8172 - accuracy: 0.7177 - val_loss: 0.9897 - val_accuracy: 0.6701\n",
            "Epoch 8/15\n",
            "1563/1563 [==============================] - 71s 45ms/step - loss: 0.7698 - accuracy: 0.7363 - val_loss: 0.9840 - val_accuracy: 0.6734\n",
            "Epoch 9/15\n",
            "1563/1563 [==============================] - 70s 45ms/step - loss: 0.7173 - accuracy: 0.7514 - val_loss: 0.9841 - val_accuracy: 0.6768\n",
            "Epoch 10/15\n",
            "1563/1563 [==============================] - 68s 44ms/step - loss: 0.6722 - accuracy: 0.7672 - val_loss: 1.0037 - val_accuracy: 0.6799\n",
            "Epoch 11/15\n",
            "1563/1563 [==============================] - 71s 45ms/step - loss: 0.6419 - accuracy: 0.7777 - val_loss: 1.0078 - val_accuracy: 0.6845\n",
            "Epoch 12/15\n",
            "1563/1563 [==============================] - 72s 46ms/step - loss: 0.5996 - accuracy: 0.7920 - val_loss: 1.0730 - val_accuracy: 0.6788\n",
            "Epoch 13/15\n",
            "1563/1563 [==============================] - 71s 45ms/step - loss: 0.5700 - accuracy: 0.8041 - val_loss: 1.1083 - val_accuracy: 0.6705\n",
            "Epoch 14/15\n",
            "1563/1563 [==============================] - 70s 45ms/step - loss: 0.5407 - accuracy: 0.8136 - val_loss: 1.1228 - val_accuracy: 0.6689\n",
            "Epoch 15/15\n",
            "1563/1563 [==============================] - 69s 44ms/step - loss: 0.5104 - accuracy: 0.8252 - val_loss: 1.1578 - val_accuracy: 0.6812\n"
          ]
        },
        {
          "data": {
            "text/plain": [
              "<keras.src.callbacks.History at 0x7e556c47eb00>"
            ]
          },
          "execution_count": 16,
          "metadata": {},
          "output_type": "execute_result"
        }
      ],
      "source": [
        "CNN_model.compile(optimizer='adam',\n",
        "              loss=tf.keras.losses.SparseCategoricalCrossentropy(from_logits=True),\n",
        "              metrics=['accuracy'])\n",
        "CNN_model.fit(x_train, y_train, epochs=15,validation_data=(x_test, y_test))\n"
      ]
    },
    {
      "cell_type": "code",
      "execution_count": null,
      "metadata": {
        "colab": {
          "base_uri": "https://localhost:8080/"
        },
        "id": "YqTUf1hcX9FY",
        "outputId": "312f5f63-3e96-40e5-9e1a-fa7eb5be1510"
      },
      "outputs": [
        {
          "name": "stdout",
          "output_type": "stream",
          "text": [
            "313/313 [==============================] - 5s 17ms/step\n",
            "              precision    recall  f1-score   support\n",
            "\n",
            "           0       0.74      0.71      0.73      1000\n",
            "           1       0.88      0.77      0.82      1000\n",
            "           2       0.62      0.55      0.58      1000\n",
            "           3       0.43      0.61      0.50      1000\n",
            "           4       0.71      0.55      0.62      1000\n",
            "           5       0.57      0.59      0.58      1000\n",
            "           6       0.69      0.81      0.74      1000\n",
            "           7       0.75      0.68      0.72      1000\n",
            "           8       0.75      0.81      0.78      1000\n",
            "           9       0.84      0.74      0.78      1000\n",
            "\n",
            "    accuracy                           0.68     10000\n",
            "   macro avg       0.70      0.68      0.68     10000\n",
            "weighted avg       0.70      0.68      0.68     10000\n",
            "\n"
          ]
        }
      ],
      "source": [
        "y_pred = CNN_model.predict(x_test)\n",
        "y_pred[0]\n",
        "predictions = []\n",
        "\n",
        "\n",
        "for i in range(10000):\n",
        "  p = np.argmax(y_pred[i])\n",
        "  predictions.append(p)\n",
        "\n",
        "\n",
        "\n",
        "print(classification_report(y_test,predictions))"
      ]
    },
    {
      "cell_type": "code",
      "execution_count": null,
      "metadata": {
        "colab": {
          "base_uri": "https://localhost:8080/"
        },
        "id": "yCza1hNVYMze",
        "outputId": "1072991e-add7-4f01-c45c-4a476e0892ea"
      },
      "outputs": [
        {
          "name": "stdout",
          "output_type": "stream",
          "text": [
            "Epoch 1/5\n"
          ]
        },
        {
          "name": "stderr",
          "output_type": "stream",
          "text": [
            "/usr/local/lib/python3.10/dist-packages/keras/src/backend.py:5729: UserWarning: \"`sparse_categorical_crossentropy` received `from_logits=True`, but the `output` argument was produced by a Softmax activation and thus does not represent logits. Was this intended?\n",
            "  output, from_logits = _get_logits(\n"
          ]
        },
        {
          "name": "stdout",
          "output_type": "stream",
          "text": [
            "1563/1563 [==============================] - 73s 46ms/step - loss: 1.6516 - accuracy: 0.4433 - val_loss: 1.2884 - val_accuracy: 0.5372\n",
            "Epoch 2/5\n",
            "1563/1563 [==============================] - 71s 46ms/step - loss: 1.2121 - accuracy: 0.5771 - val_loss: 1.1651 - val_accuracy: 0.5939\n",
            "Epoch 3/5\n",
            "1563/1563 [==============================] - 70s 45ms/step - loss: 1.0755 - accuracy: 0.6251 - val_loss: 1.1031 - val_accuracy: 0.6232\n",
            "Epoch 4/5\n",
            "1563/1563 [==============================] - 70s 45ms/step - loss: 0.9741 - accuracy: 0.6617 - val_loss: 1.1039 - val_accuracy: 0.6193\n",
            "Epoch 5/5\n",
            "1563/1563 [==============================] - 70s 45ms/step - loss: 0.8925 - accuracy: 0.6924 - val_loss: 1.0242 - val_accuracy: 0.6482\n",
            "313/313 - 5s - loss: 1.0242 - accuracy: 0.6482 - 5s/epoch - 15ms/step\n",
            "0.6481999754905701\n"
          ]
        }
      ],
      "source": [
        "#changing the number of layers\n",
        "CNN_model_2 = tf.keras.Sequential([\n",
        "    tf.keras.layers.Conv2D(32, (3, 3), activation='relu', input_shape=(32, 32, 3)),\n",
        "    tf.keras.layers.MaxPooling2D((2, 2)),\n",
        "    tf.keras.layers.Conv2D(64, (3, 3), activation='relu'),\n",
        "    tf.keras.layers.MaxPooling2D((2, 2)),\n",
        "    tf.keras.layers.Conv2D(128, (3, 3), activation='relu'),\n",
        "    tf.keras.layers.MaxPooling2D((2, 2)),\n",
        "    tf.keras.layers.Flatten(input_shape =(1,1,128)),\n",
        "    tf.keras.layers.Dense(128, activation='relu'),\n",
        "\n",
        "    tf.keras.layers.Dense(10, activation='softmax'),\n",
        "])\n",
        "\n",
        "\n",
        "CNN_model_2.compile(optimizer='adam',\n",
        "              loss=tf.keras.losses.SparseCategoricalCrossentropy(from_logits=True),\n",
        "              metrics=['accuracy'])\n",
        "CNN_model_2.fit(x_train, y_train, epochs=5,validation_data=(x_test, y_test))\n",
        "\n",
        "\n",
        "test_loss, test_acc = CNN_model_2.evaluate(x_test,  y_test, verbose=2)\n",
        "print(test_acc)"
      ]
    },
    {
      "cell_type": "code",
      "execution_count": null,
      "metadata": {
        "colab": {
          "base_uri": "https://localhost:8080/"
        },
        "id": "PZtfr8rBaOfC",
        "outputId": "22c9d68e-083b-48a7-b9cb-ab9acb3ace5e"
      },
      "outputs": [
        {
          "name": "stdout",
          "output_type": "stream",
          "text": [
            "Epoch 1/5\n",
            "1563/1563 [==============================] - 70s 44ms/step - loss: 1.4315 - accuracy: 0.5104 - val_loss: 1.3930 - val_accuracy: 0.5880\n",
            "Epoch 2/5\n",
            "1563/1563 [==============================] - 67s 43ms/step - loss: 0.8136 - accuracy: 0.7319 - val_loss: 1.6885 - val_accuracy: 0.5147\n",
            "Epoch 3/5\n",
            "1563/1563 [==============================] - 71s 45ms/step - loss: 0.6803 - accuracy: 0.7780 - val_loss: 1.2822 - val_accuracy: 0.6521\n",
            "Epoch 4/5\n",
            "1563/1563 [==============================] - 72s 46ms/step - loss: 0.6190 - accuracy: 0.7973 - val_loss: 1.2657 - val_accuracy: 0.6548\n",
            "Epoch 5/5\n",
            "1563/1563 [==============================] - 74s 47ms/step - loss: 0.5734 - accuracy: 0.8117 - val_loss: 1.2572 - val_accuracy: 0.6576\n",
            "313/313 - 5s - loss: 1.2572 - accuracy: 0.6576 - 5s/epoch - 17ms/step\n",
            "0.6575999855995178\n"
          ]
        }
      ],
      "source": [
        "#adam was changed to SGD\n",
        "CNN_model.compile(optimizer='SGD',\n",
        "              loss=tf.keras.losses.SparseCategoricalCrossentropy(from_logits=True),\n",
        "              metrics=['accuracy'])\n",
        "CNN_model.fit(x_train, y_train, epochs=5,validation_data=(x_test, y_test))\n",
        "\n",
        "test_loss, test_acc = CNN_model.evaluate(x_test,  y_test, verbose=2)\n",
        "print(test_acc)"
      ]
    },
    {
      "cell_type": "code",
      "execution_count": null,
      "metadata": {
        "colab": {
          "base_uri": "https://localhost:8080/"
        },
        "id": "YpKT4ZDGaV29",
        "outputId": "e3f2ab1c-5df8-4f91-9fc3-39e9c202d3a6"
      },
      "outputs": [
        {
          "name": "stdout",
          "output_type": "stream",
          "text": [
            "Epoch 1/5\n",
            "1563/1563 [==============================] - 71s 45ms/step - loss: 27.6109 - accuracy: 0.1264 - val_loss: 27.6100 - val_accuracy: 0.1245\n",
            "Epoch 2/5\n",
            "1563/1563 [==============================] - 70s 44ms/step - loss: 27.6101 - accuracy: 0.1205 - val_loss: 27.6100 - val_accuracy: 0.1215\n",
            "Epoch 3/5\n",
            "1563/1563 [==============================] - 67s 43ms/step - loss: 27.6101 - accuracy: 0.1199 - val_loss: 27.6100 - val_accuracy: 0.1256\n",
            "Epoch 4/5\n",
            "1563/1563 [==============================] - 69s 44ms/step - loss: 27.6101 - accuracy: 0.1197 - val_loss: 27.6100 - val_accuracy: 0.1090\n",
            "Epoch 5/5\n",
            "1563/1563 [==============================] - 69s 44ms/step - loss: 27.6101 - accuracy: 0.1097 - val_loss: 27.6100 - val_accuracy: 0.0995\n",
            "313/313 - 3s - loss: 27.6100 - accuracy: 0.0995 - 3s/epoch - 11ms/step\n",
            "0.09950000047683716\n"
          ]
        }
      ],
      "source": [
        "#loss was changed to mean square error\n",
        "CNN_model.compile(optimizer='adam',\n",
        "              loss=tf.keras.losses.MeanSquaredError(),\n",
        "              metrics=['accuracy'])\n",
        "CNN_model.fit(x_train, y_train, epochs=5,validation_data=(x_test, y_test))\n",
        "\n",
        "test_loss, test_acc = CNN_model.evaluate(x_test,  y_test, verbose=2)\n",
        "print(test_acc)"
      ]
    },
    {
      "cell_type": "markdown",
      "metadata": {
        "id": "xlXWWczOak3Q"
      },
      "source": [
        "#DEEP NN"
      ]
    },
    {
      "cell_type": "code",
      "execution_count": null,
      "metadata": {
        "id": "rFnb40SDaoIQ"
      },
      "outputs": [],
      "source": [
        "deep_model = tf.keras.Sequential([\n",
        "    tf.keras.layers.experimental.preprocessing.Rescaling(1./255, input_shape=(32, 32, 3)),\n",
        "    tf.keras.layers.Flatten(),\n",
        "    tf.keras.layers.Dense(2560, activation='relu'),\n",
        "    tf.keras.layers.Dense(1792, activation='relu'),\n",
        "    tf.keras.layers.Dense(780, activation='relu'),\n",
        "    tf.keras.layers.Dense(512, activation='relu'),\n",
        "    tf.keras.layers.Dense(10, activation='softmax')\n",
        "])"
      ]
    },
    {
      "cell_type": "code",
      "execution_count": null,
      "metadata": {
        "colab": {
          "base_uri": "https://localhost:8080/",
          "height": 865
        },
        "id": "WYOBHWnncrxo",
        "outputId": "ee0437aa-b856-465c-81b9-3d65131ea896"
      },
      "outputs": [
        {
          "data": {
            "image/png": "[encoded data removed]",
            "text/plain": [
              "<IPython.core.display.Image object>"
            ]
          },
          "execution_count": 22,
          "metadata": {},
          "output_type": "execute_result"
        }
      ],
      "source": [
        "deep_model.compile(optimizer='SGD',\n",
        "              loss=tf.keras.losses.SparseCategoricalCrossentropy(from_logits=True),\n",
        "              metrics=['accuracy'])\n",
        "\n",
        "tf.keras.utils.plot_model(deep_model,  show_shapes=True)"
      ]
    },
    {
      "cell_type": "code",
      "execution_count": null,
      "metadata": {
        "colab": {
          "base_uri": "https://localhost:8080/"
        },
        "id": "K7xWo-yJct6r",
        "outputId": "8288fc15-e9c2-4b4f-e688-354437d26f45"
      },
      "outputs": [
        {
          "name": "stdout",
          "output_type": "stream",
          "text": [
            "Epoch 1/5\n",
            "1563/1563 [==============================] - 155s 99ms/step - loss: 1.8226 - accuracy: 0.3431\n",
            "Epoch 2/5\n",
            "1563/1563 [==============================] - 152s 97ms/step - loss: 1.6197 - accuracy: 0.4207\n",
            "Epoch 3/5\n",
            "1563/1563 [==============================] - 156s 100ms/step - loss: 1.5301 - accuracy: 0.4554\n",
            "Epoch 4/5\n",
            "1563/1563 [==============================] - 157s 100ms/step - loss: 1.4635 - accuracy: 0.4798\n",
            "Epoch 5/5\n",
            "1563/1563 [==============================] - 154s 99ms/step - loss: 1.4081 - accuracy: 0.4988\n"
          ]
        },
        {
          "data": {
            "text/plain": [
              "<keras.src.callbacks.History at 0x7e555dad7670>"
            ]
          },
          "execution_count": 23,
          "metadata": {},
          "output_type": "execute_result"
        }
      ],
      "source": [
        "deep_model.fit(x_train, y_train, epochs=5)"
      ]
    },
    {
      "cell_type": "code",
      "execution_count": null,
      "metadata": {
        "colab": {
          "base_uri": "https://localhost:8080/"
        },
        "id": "FUNOBslvdVhW",
        "outputId": "296b81ed-2ee9-4b0d-dab9-c0a9fced0a18"
      },
      "outputs": [
        {
          "name": "stdout",
          "output_type": "stream",
          "text": [
            "313/313 [==============================] - 10s 33ms/step\n",
            "              precision    recall  f1-score   support\n",
            "\n",
            "           0       0.63      0.46      0.53      1000\n",
            "           1       0.68      0.57      0.62      1000\n",
            "           2       0.39      0.23      0.29      1000\n",
            "           3       0.41      0.14      0.21      1000\n",
            "           4       0.29      0.61      0.39      1000\n",
            "           5       0.55      0.21      0.30      1000\n",
            "           6       0.36      0.75      0.48      1000\n",
            "           7       0.60      0.45      0.51      1000\n",
            "           8       0.54      0.71      0.61      1000\n",
            "           9       0.62      0.50      0.55      1000\n",
            "\n",
            "    accuracy                           0.46     10000\n",
            "   macro avg       0.51      0.46      0.45     10000\n",
            "weighted avg       0.51      0.46      0.45     10000\n",
            "\n"
          ]
        }
      ],
      "source": [
        "y_pred = deep_model.predict(x_test)\n",
        "y_pred[0]\n",
        "predictions = []\n",
        "\n",
        "\n",
        "for i in range(10000):\n",
        "  p = np.argmax(y_pred[i])\n",
        "  predictions.append(p)\n",
        "\n",
        "\n",
        "\n",
        "print(classification_report(y_test,predictions))"
      ]
    },
    {
      "cell_type": "code",
      "execution_count": null,
      "metadata": {
        "colab": {
          "base_uri": "https://localhost:8080/"
        },
        "id": "J3GvRGJ3dhDN",
        "outputId": "6431aaae-f247-4070-dfd6-e3903303a076"
      },
      "outputs": [
        {
          "name": "stdout",
          "output_type": "stream",
          "text": [
            "Epoch 1/5\n"
          ]
        },
        {
          "name": "stderr",
          "output_type": "stream",
          "text": [
            "/usr/local/lib/python3.10/dist-packages/keras/src/backend.py:5729: UserWarning: \"`sparse_categorical_crossentropy` received `from_logits=True`, but the `output` argument was produced by a Softmax activation and thus does not represent logits. Was this intended?\n",
            "  output, from_logits = _get_logits(\n"
          ]
        },
        {
          "name": "stdout",
          "output_type": "stream",
          "text": [
            "1563/1563 [==============================] - 155s 99ms/step - loss: 1.3626 - accuracy: 0.5157\n",
            "Epoch 2/5\n",
            "1563/1563 [==============================] - 152s 97ms/step - loss: 1.3192 - accuracy: 0.5316\n",
            "Epoch 3/5\n",
            "1563/1563 [==============================] - 154s 99ms/step - loss: 1.2758 - accuracy: 0.5467\n",
            "Epoch 4/5\n",
            "1563/1563 [==============================] - 157s 100ms/step - loss: 1.2394 - accuracy: 0.5621\n",
            "Epoch 5/5\n",
            "1563/1563 [==============================] - 155s 99ms/step - loss: 1.2010 - accuracy: 0.5726\n",
            "313/313 - 10s - loss: 1.4902 - accuracy: 0.4736 - 10s/epoch - 31ms/step\n",
            "0.47360000014305115\n"
          ]
        }
      ],
      "source": [
        "#changing the neurons/layers\n",
        "deep_model_2 = tf.keras.Sequential([\n",
        "    tf.keras.layers.experimental.preprocessing.Rescaling(1./255, input_shape=(32, 32, 3)),\n",
        "    tf.keras.layers.Flatten(),\n",
        "    tf.keras.layers.Dense(1560, activation='relu'),\n",
        "    tf.keras.layers.Dense(792, activation='relu'),\n",
        "\n",
        "    tf.keras.layers.Dense(100, activation='relu'),\n",
        "    tf.keras.layers.Dense(10, activation='softmax')\n",
        "])\n",
        "\n",
        "deep_model.compile(optimizer='SGD',\n",
        "              loss=tf.keras.losses.SparseCategoricalCrossentropy(from_logits=True),\n",
        "              metrics=['accuracy'])\n",
        "\n",
        "tf.keras.utils.plot_model(deep_model,  show_shapes=True)\n",
        "\n",
        "deep_model.fit(x_train, y_train, epochs=5)\n",
        "\n",
        "\n",
        "\n",
        "test_loss, test_acc = deep_model.evaluate(x_test,  y_test, verbose=2)\n",
        "print(test_acc)"
      ]
    },
    {
      "cell_type": "code",
      "execution_count": null,
      "metadata": {
        "colab": {
          "base_uri": "https://localhost:8080/",
          "height": 425
        },
        "id": "jl8zwpslsF-l",
        "outputId": "1772ccec-2f9b-4eaa-cedc-1fb02f60d910"
      },
      "outputs": [
        {
          "name": "stdout",
          "output_type": "stream",
          "text": [
            "Epoch 1/5\n",
            "1136/1563 [====================>.........] - ETA: 1:30 - loss: 2.0175 - accuracy: 0.2876"
          ]
        },
        {
          "ename": "KeyboardInterrupt",
          "evalue": "ignored",
          "output_type": "error",
          "traceback": [
            "\u001b[0;31m---------------------------------------------------------------------------\u001b[0m",
            "\u001b[0;31mKeyboardInterrupt\u001b[0m                         Traceback (most recent call last)",
            "\u001b[0;32m<ipython-input-26-5aa0e57f75d8>\u001b[0m in \u001b[0;36m<cell line: 9>\u001b[0;34m()\u001b[0m\n\u001b[1;32m      7\u001b[0m \u001b[0;34m\u001b[0m\u001b[0m\n\u001b[1;32m      8\u001b[0m \u001b[0;34m\u001b[0m\u001b[0m\n\u001b[0;32m----> 9\u001b[0;31m \u001b[0mdeep_model\u001b[0m\u001b[0;34m.\u001b[0m\u001b[0mfit\u001b[0m\u001b[0;34m(\u001b[0m\u001b[0mx_train\u001b[0m\u001b[0;34m,\u001b[0m \u001b[0my_train\u001b[0m\u001b[0;34m,\u001b[0m \u001b[0mepochs\u001b[0m\u001b[0;34m=\u001b[0m\u001b[0;36m5\u001b[0m\u001b[0;34m)\u001b[0m\u001b[0;34m\u001b[0m\u001b[0;34m\u001b[0m\u001b[0m\n\u001b[0m\u001b[1;32m     10\u001b[0m \u001b[0;34m\u001b[0m\u001b[0m\n\u001b[1;32m     11\u001b[0m \u001b[0;34m\u001b[0m\u001b[0m\n",
            "\u001b[0;32m/usr/local/lib/python3.10/dist-packages/keras/src/utils/traceback_utils.py\u001b[0m in \u001b[0;36merror_handler\u001b[0;34m(*args, **kwargs)\u001b[0m\n\u001b[1;32m     63\u001b[0m         \u001b[0mfiltered_tb\u001b[0m \u001b[0;34m=\u001b[0m \u001b[0;32mNone\u001b[0m\u001b[0;34m\u001b[0m\u001b[0;34m\u001b[0m\u001b[0m\n\u001b[1;32m     64\u001b[0m         \u001b[0;32mtry\u001b[0m\u001b[0;34m:\u001b[0m\u001b[0;34m\u001b[0m\u001b[0;34m\u001b[0m\u001b[0m\n\u001b[0;32m---> 65\u001b[0;31m             \u001b[0;32mreturn\u001b[0m \u001b[0mfn\u001b[0m\u001b[0;34m(\u001b[0m\u001b[0;34m*\u001b[0m\u001b[0margs\u001b[0m\u001b[0;34m,\u001b[0m \u001b[0;34m**\u001b[0m\u001b[0mkwargs\u001b[0m\u001b[0;34m)\u001b[0m\u001b[0;34m\u001b[0m\u001b[0;34m\u001b[0m\u001b[0m\n\u001b[0m\u001b[1;32m     66\u001b[0m         \u001b[0;32mexcept\u001b[0m \u001b[0mException\u001b[0m \u001b[0;32mas\u001b[0m \u001b[0me\u001b[0m\u001b[0;34m:\u001b[0m\u001b[0;34m\u001b[0m\u001b[0;34m\u001b[0m\u001b[0m\n\u001b[1;32m     67\u001b[0m             \u001b[0mfiltered_tb\u001b[0m \u001b[0;34m=\u001b[0m \u001b[0m_process_traceback_frames\u001b[0m\u001b[0;34m(\u001b[0m\u001b[0me\u001b[0m\u001b[0;34m.\u001b[0m\u001b[0m__traceback__\u001b[0m\u001b[0;34m)\u001b[0m\u001b[0;34m\u001b[0m\u001b[0;34m\u001b[0m\u001b[0m\n",
            "\u001b[0;32m/usr/local/lib/python3.10/dist-packages/keras/src/engine/training.py\u001b[0m in \u001b[0;36mfit\u001b[0;34m(self, x, y, batch_size, epochs, verbose, callbacks, validation_split, validation_data, shuffle, class_weight, sample_weight, initial_epoch, steps_per_epoch, validation_steps, validation_batch_size, validation_freq, max_queue_size, workers, use_multiprocessing)\u001b[0m\n\u001b[1;32m   1781\u001b[0m                         ):\n\u001b[1;32m   1782\u001b[0m                             \u001b[0mcallbacks\u001b[0m\u001b[0;34m.\u001b[0m\u001b[0mon_train_batch_begin\u001b[0m\u001b[0;34m(\u001b[0m\u001b[0mstep\u001b[0m\u001b[0;34m)\u001b[0m\u001b[0;34m\u001b[0m\u001b[0;34m\u001b[0m\u001b[0m\n\u001b[0;32m-> 1783\u001b[0;31m                             \u001b[0mtmp_logs\u001b[0m \u001b[0;34m=\u001b[0m \u001b[0mself\u001b[0m\u001b[0;34m.\u001b[0m\u001b[0mtrain_function\u001b[0m\u001b[0;34m(\u001b[0m\u001b[0miterator\u001b[0m\u001b[0;34m)\u001b[0m\u001b[0;34m\u001b[0m\u001b[0;34m\u001b[0m\u001b[0m\n\u001b[0m\u001b[1;32m   1784\u001b[0m                             \u001b[0;32mif\u001b[0m \u001b[0mdata_handler\u001b[0m\u001b[0;34m.\u001b[0m\u001b[0mshould_sync\u001b[0m\u001b[0;34m:\u001b[0m\u001b[0;34m\u001b[0m\u001b[0;34m\u001b[0m\u001b[0m\n\u001b[1;32m   1785\u001b[0m                                 \u001b[0mcontext\u001b[0m\u001b[0;34m.\u001b[0m\u001b[0masync_wait\u001b[0m\u001b[0;34m(\u001b[0m\u001b[0;34m)\u001b[0m\u001b[0;34m\u001b[0m\u001b[0;34m\u001b[0m\u001b[0m\n",
            "\u001b[0;32m/usr/local/lib/python3.10/dist-packages/tensorflow/python/util/traceback_utils.py\u001b[0m in \u001b[0;36merror_handler\u001b[0;34m(*args, **kwargs)\u001b[0m\n\u001b[1;32m    148\u001b[0m     \u001b[0mfiltered_tb\u001b[0m \u001b[0;34m=\u001b[0m \u001b[0;32mNone\u001b[0m\u001b[0;34m\u001b[0m\u001b[0;34m\u001b[0m\u001b[0m\n\u001b[1;32m    149\u001b[0m     \u001b[0;32mtry\u001b[0m\u001b[0;34m:\u001b[0m\u001b[0;34m\u001b[0m\u001b[0;34m\u001b[0m\u001b[0m\n\u001b[0;32m--> 150\u001b[0;31m       \u001b[0;32mreturn\u001b[0m \u001b[0mfn\u001b[0m\u001b[0;34m(\u001b[0m\u001b[0;34m*\u001b[0m\u001b[0margs\u001b[0m\u001b[0;34m,\u001b[0m \u001b[0;34m**\u001b[0m\u001b[0mkwargs\u001b[0m\u001b[0;34m)\u001b[0m\u001b[0;34m\u001b[0m\u001b[0;34m\u001b[0m\u001b[0m\n\u001b[0m\u001b[1;32m    151\u001b[0m     \u001b[0;32mexcept\u001b[0m \u001b[0mException\u001b[0m \u001b[0;32mas\u001b[0m \u001b[0me\u001b[0m\u001b[0;34m:\u001b[0m\u001b[0;34m\u001b[0m\u001b[0;34m\u001b[0m\u001b[0m\n\u001b[1;32m    152\u001b[0m       \u001b[0mfiltered_tb\u001b[0m \u001b[0;34m=\u001b[0m \u001b[0m_process_traceback_frames\u001b[0m\u001b[0;34m(\u001b[0m\u001b[0me\u001b[0m\u001b[0;34m.\u001b[0m\u001b[0m__traceback__\u001b[0m\u001b[0;34m)\u001b[0m\u001b[0;34m\u001b[0m\u001b[0;34m\u001b[0m\u001b[0m\n",
            "\u001b[0;32m/usr/local/lib/python3.10/dist-packages/tensorflow/python/eager/polymorphic_function/polymorphic_function.py\u001b[0m in \u001b[0;36m__call__\u001b[0;34m(self, *args, **kwds)\u001b[0m\n\u001b[1;32m    829\u001b[0m \u001b[0;34m\u001b[0m\u001b[0m\n\u001b[1;32m    830\u001b[0m       \u001b[0;32mwith\u001b[0m \u001b[0mOptionalXlaContext\u001b[0m\u001b[0;34m(\u001b[0m\u001b[0mself\u001b[0m\u001b[0;34m.\u001b[0m\u001b[0m_jit_compile\u001b[0m\u001b[0;34m)\u001b[0m\u001b[0;34m:\u001b[0m\u001b[0;34m\u001b[0m\u001b[0;34m\u001b[0m\u001b[0m\n\u001b[0;32m--> 831\u001b[0;31m         \u001b[0mresult\u001b[0m \u001b[0;34m=\u001b[0m \u001b[0mself\u001b[0m\u001b[0;34m.\u001b[0m\u001b[0m_call\u001b[0m\u001b[0;34m(\u001b[0m\u001b[0;34m*\u001b[0m\u001b[0margs\u001b[0m\u001b[0;34m,\u001b[0m \u001b[0;34m**\u001b[0m\u001b[0mkwds\u001b[0m\u001b[0;34m)\u001b[0m\u001b[0;34m\u001b[0m\u001b[0;34m\u001b[0m\u001b[0m\n\u001b[0m\u001b[1;32m    832\u001b[0m \u001b[0;34m\u001b[0m\u001b[0m\n\u001b[1;32m    833\u001b[0m       \u001b[0mnew_tracing_count\u001b[0m \u001b[0;34m=\u001b[0m \u001b[0mself\u001b[0m\u001b[0;34m.\u001b[0m\u001b[0mexperimental_get_tracing_count\u001b[0m\u001b[0;34m(\u001b[0m\u001b[0;34m)\u001b[0m\u001b[0;34m\u001b[0m\u001b[0;34m\u001b[0m\u001b[0m\n",
            "\u001b[0;32m/usr/local/lib/python3.10/dist-packages/tensorflow/python/eager/polymorphic_function/polymorphic_function.py\u001b[0m in \u001b[0;36m_call\u001b[0;34m(self, *args, **kwds)\u001b[0m\n\u001b[1;32m    865\u001b[0m       \u001b[0;31m# In this case we have created variables on the first call, so we run the\u001b[0m\u001b[0;34m\u001b[0m\u001b[0;34m\u001b[0m\u001b[0m\n\u001b[1;32m    866\u001b[0m       \u001b[0;31m# defunned version which is guaranteed to never create variables.\u001b[0m\u001b[0;34m\u001b[0m\u001b[0;34m\u001b[0m\u001b[0m\n\u001b[0;32m--> 867\u001b[0;31m       return tracing_compilation.call_function(\n\u001b[0m\u001b[1;32m    868\u001b[0m           \u001b[0margs\u001b[0m\u001b[0;34m,\u001b[0m \u001b[0mkwds\u001b[0m\u001b[0;34m,\u001b[0m \u001b[0mself\u001b[0m\u001b[0;34m.\u001b[0m\u001b[0m_no_variable_creation_config\u001b[0m\u001b[0;34m\u001b[0m\u001b[0;34m\u001b[0m\u001b[0m\n\u001b[1;32m    869\u001b[0m       )\n",
            "\u001b[0;32m/usr/local/lib/python3.10/dist-packages/tensorflow/python/eager/polymorphic_function/tracing_compilation.py\u001b[0m in \u001b[0;36mcall_function\u001b[0;34m(args, kwargs, tracing_options)\u001b[0m\n\u001b[1;32m    137\u001b[0m   \u001b[0mbound_args\u001b[0m \u001b[0;34m=\u001b[0m \u001b[0mfunction\u001b[0m\u001b[0;34m.\u001b[0m\u001b[0mfunction_type\u001b[0m\u001b[0;34m.\u001b[0m\u001b[0mbind\u001b[0m\u001b[0;34m(\u001b[0m\u001b[0;34m*\u001b[0m\u001b[0margs\u001b[0m\u001b[0;34m,\u001b[0m \u001b[0;34m**\u001b[0m\u001b[0mkwargs\u001b[0m\u001b[0;34m)\u001b[0m\u001b[0;34m\u001b[0m\u001b[0;34m\u001b[0m\u001b[0m\n\u001b[1;32m    138\u001b[0m   \u001b[0mflat_inputs\u001b[0m \u001b[0;34m=\u001b[0m \u001b[0mfunction\u001b[0m\u001b[0;34m.\u001b[0m\u001b[0mfunction_type\u001b[0m\u001b[0;34m.\u001b[0m\u001b[0munpack_inputs\u001b[0m\u001b[0;34m(\u001b[0m\u001b[0mbound_args\u001b[0m\u001b[0;34m)\u001b[0m\u001b[0;34m\u001b[0m\u001b[0;34m\u001b[0m\u001b[0m\n\u001b[0;32m--> 139\u001b[0;31m   return function._call_flat(  # pylint: disable=protected-access\n\u001b[0m\u001b[1;32m    140\u001b[0m       \u001b[0mflat_inputs\u001b[0m\u001b[0;34m,\u001b[0m \u001b[0mcaptured_inputs\u001b[0m\u001b[0;34m=\u001b[0m\u001b[0mfunction\u001b[0m\u001b[0;34m.\u001b[0m\u001b[0mcaptured_inputs\u001b[0m\u001b[0;34m\u001b[0m\u001b[0;34m\u001b[0m\u001b[0m\n\u001b[1;32m    141\u001b[0m   )\n",
            "\u001b[0;32m/usr/local/lib/python3.10/dist-packages/tensorflow/python/eager/polymorphic_function/concrete_function.py\u001b[0m in \u001b[0;36m_call_flat\u001b[0;34m(self, tensor_inputs, captured_inputs)\u001b[0m\n\u001b[1;32m   1262\u001b[0m         and executing_eagerly):\n\u001b[1;32m   1263\u001b[0m       \u001b[0;31m# No tape is watching; skip to running the function.\u001b[0m\u001b[0;34m\u001b[0m\u001b[0;34m\u001b[0m\u001b[0m\n\u001b[0;32m-> 1264\u001b[0;31m       \u001b[0;32mreturn\u001b[0m \u001b[0mself\u001b[0m\u001b[0;34m.\u001b[0m\u001b[0m_inference_function\u001b[0m\u001b[0;34m.\u001b[0m\u001b[0mflat_call\u001b[0m\u001b[0;34m(\u001b[0m\u001b[0margs\u001b[0m\u001b[0;34m)\u001b[0m\u001b[0;34m\u001b[0m\u001b[0;34m\u001b[0m\u001b[0m\n\u001b[0m\u001b[1;32m   1265\u001b[0m     forward_backward = self._select_forward_and_backward_functions(\n\u001b[1;32m   1266\u001b[0m         \u001b[0margs\u001b[0m\u001b[0;34m,\u001b[0m\u001b[0;34m\u001b[0m\u001b[0;34m\u001b[0m\u001b[0m\n",
            "\u001b[0;32m/usr/local/lib/python3.10/dist-packages/tensorflow/python/eager/polymorphic_function/atomic_function.py\u001b[0m in \u001b[0;36mflat_call\u001b[0;34m(self, args)\u001b[0m\n\u001b[1;32m    215\u001b[0m   \u001b[0;32mdef\u001b[0m \u001b[0mflat_call\u001b[0m\u001b[0;34m(\u001b[0m\u001b[0mself\u001b[0m\u001b[0;34m,\u001b[0m \u001b[0margs\u001b[0m\u001b[0;34m:\u001b[0m \u001b[0mSequence\u001b[0m\u001b[0;34m[\u001b[0m\u001b[0mcore\u001b[0m\u001b[0;34m.\u001b[0m\u001b[0mTensor\u001b[0m\u001b[0;34m]\u001b[0m\u001b[0;34m)\u001b[0m \u001b[0;34m->\u001b[0m \u001b[0mAny\u001b[0m\u001b[0;34m:\u001b[0m\u001b[0;34m\u001b[0m\u001b[0;34m\u001b[0m\u001b[0m\n\u001b[1;32m    216\u001b[0m     \u001b[0;34m\"\"\"Calls with tensor inputs and returns the structured output.\"\"\"\u001b[0m\u001b[0;34m\u001b[0m\u001b[0;34m\u001b[0m\u001b[0m\n\u001b[0;32m--> 217\u001b[0;31m     \u001b[0mflat_outputs\u001b[0m \u001b[0;34m=\u001b[0m \u001b[0mself\u001b[0m\u001b[0;34m(\u001b[0m\u001b[0;34m*\u001b[0m\u001b[0margs\u001b[0m\u001b[0;34m)\u001b[0m\u001b[0;34m\u001b[0m\u001b[0;34m\u001b[0m\u001b[0m\n\u001b[0m\u001b[1;32m    218\u001b[0m     \u001b[0;32mreturn\u001b[0m \u001b[0mself\u001b[0m\u001b[0;34m.\u001b[0m\u001b[0mfunction_type\u001b[0m\u001b[0;34m.\u001b[0m\u001b[0mpack_output\u001b[0m\u001b[0;34m(\u001b[0m\u001b[0mflat_outputs\u001b[0m\u001b[0;34m)\u001b[0m\u001b[0;34m\u001b[0m\u001b[0;34m\u001b[0m\u001b[0m\n\u001b[1;32m    219\u001b[0m \u001b[0;34m\u001b[0m\u001b[0m\n",
            "\u001b[0;32m/usr/local/lib/python3.10/dist-packages/tensorflow/python/eager/polymorphic_function/atomic_function.py\u001b[0m in \u001b[0;36m__call__\u001b[0;34m(self, *args)\u001b[0m\n\u001b[1;32m    250\u001b[0m         \u001b[0;32mwith\u001b[0m \u001b[0mrecord\u001b[0m\u001b[0;34m.\u001b[0m\u001b[0mstop_recording\u001b[0m\u001b[0;34m(\u001b[0m\u001b[0;34m)\u001b[0m\u001b[0;34m:\u001b[0m\u001b[0;34m\u001b[0m\u001b[0;34m\u001b[0m\u001b[0m\n\u001b[1;32m    251\u001b[0m           \u001b[0;32mif\u001b[0m \u001b[0mself\u001b[0m\u001b[0;34m.\u001b[0m\u001b[0m_bound_context\u001b[0m\u001b[0;34m.\u001b[0m\u001b[0mexecuting_eagerly\u001b[0m\u001b[0;34m(\u001b[0m\u001b[0;34m)\u001b[0m\u001b[0;34m:\u001b[0m\u001b[0;34m\u001b[0m\u001b[0;34m\u001b[0m\u001b[0m\n\u001b[0;32m--> 252\u001b[0;31m             outputs = self._bound_context.call_function(\n\u001b[0m\u001b[1;32m    253\u001b[0m                 \u001b[0mself\u001b[0m\u001b[0;34m.\u001b[0m\u001b[0mname\u001b[0m\u001b[0;34m,\u001b[0m\u001b[0;34m\u001b[0m\u001b[0;34m\u001b[0m\u001b[0m\n\u001b[1;32m    254\u001b[0m                 \u001b[0mlist\u001b[0m\u001b[0;34m(\u001b[0m\u001b[0margs\u001b[0m\u001b[0;34m)\u001b[0m\u001b[0;34m,\u001b[0m\u001b[0;34m\u001b[0m\u001b[0;34m\u001b[0m\u001b[0m\n",
            "\u001b[0;32m/usr/local/lib/python3.10/dist-packages/tensorflow/python/eager/context.py\u001b[0m in \u001b[0;36mcall_function\u001b[0;34m(self, name, tensor_inputs, num_outputs)\u001b[0m\n\u001b[1;32m   1477\u001b[0m     \u001b[0mcancellation_context\u001b[0m \u001b[0;34m=\u001b[0m \u001b[0mcancellation\u001b[0m\u001b[0;34m.\u001b[0m\u001b[0mcontext\u001b[0m\u001b[0;34m(\u001b[0m\u001b[0;34m)\u001b[0m\u001b[0;34m\u001b[0m\u001b[0;34m\u001b[0m\u001b[0m\n\u001b[1;32m   1478\u001b[0m     \u001b[0;32mif\u001b[0m \u001b[0mcancellation_context\u001b[0m \u001b[0;32mis\u001b[0m \u001b[0;32mNone\u001b[0m\u001b[0;34m:\u001b[0m\u001b[0;34m\u001b[0m\u001b[0;34m\u001b[0m\u001b[0m\n\u001b[0;32m-> 1479\u001b[0;31m       outputs = execute.execute(\n\u001b[0m\u001b[1;32m   1480\u001b[0m           \u001b[0mname\u001b[0m\u001b[0;34m.\u001b[0m\u001b[0mdecode\u001b[0m\u001b[0;34m(\u001b[0m\u001b[0;34m\"utf-8\"\u001b[0m\u001b[0;34m)\u001b[0m\u001b[0;34m,\u001b[0m\u001b[0;34m\u001b[0m\u001b[0;34m\u001b[0m\u001b[0m\n\u001b[1;32m   1481\u001b[0m           \u001b[0mnum_outputs\u001b[0m\u001b[0;34m=\u001b[0m\u001b[0mnum_outputs\u001b[0m\u001b[0;34m,\u001b[0m\u001b[0;34m\u001b[0m\u001b[0;34m\u001b[0m\u001b[0m\n",
            "\u001b[0;32m/usr/local/lib/python3.10/dist-packages/tensorflow/python/eager/execute.py\u001b[0m in \u001b[0;36mquick_execute\u001b[0;34m(op_name, num_outputs, inputs, attrs, ctx, name)\u001b[0m\n\u001b[1;32m     58\u001b[0m         \u001b[0;32mfor\u001b[0m \u001b[0mt\u001b[0m \u001b[0;32min\u001b[0m \u001b[0minputs\u001b[0m\u001b[0;34m\u001b[0m\u001b[0;34m\u001b[0m\u001b[0m\n\u001b[1;32m     59\u001b[0m     ]\n\u001b[0;32m---> 60\u001b[0;31m     tensors = pywrap_tfe.TFE_Py_Execute(ctx._handle, device_name, op_name,\n\u001b[0m\u001b[1;32m     61\u001b[0m                                         inputs, attrs, num_outputs)\n\u001b[1;32m     62\u001b[0m   \u001b[0;32mexcept\u001b[0m \u001b[0mcore\u001b[0m\u001b[0;34m.\u001b[0m\u001b[0m_NotOkStatusException\u001b[0m \u001b[0;32mas\u001b[0m \u001b[0me\u001b[0m\u001b[0;34m:\u001b[0m\u001b[0;34m\u001b[0m\u001b[0;34m\u001b[0m\u001b[0m\n",
            "\u001b[0;31mKeyboardInterrupt\u001b[0m: "
          ]
        }
      ],
      "source": [
        "#changing the optimizer SGD to adam\n",
        "deep_model.compile(optimizer='adam',\n",
        "              loss=tf.keras.losses.SparseCategoricalCrossentropy(from_logits=True),\n",
        "              metrics=['accuracy'])\n",
        "\n",
        "\n",
        "\n",
        "\n",
        "deep_model.fit(x_train, y_train, epochs=3)\n",
        "\n",
        "\n",
        "\n",
        "test_loss, test_acc = deep_model.evaluate(x_test,  y_test, verbose=2)\n",
        "print(test_acc)"
      ]
    },
    {
      "cell_type": "code",
      "execution_count": null,
      "metadata": {
        "id": "595iIghBvW-a"
      },
      "outputs": [],
      "source": [
        "#changing loss to mean square loss\n",
        "deep_model.compile(optimizer='adam',\n",
        "              loss=tf.keras.losses.MeanSquaredError(),\n",
        "              metrics=['accuracy'])\n",
        "\n",
        "\n",
        "\n",
        "\n",
        "deep_model.fit(x_train, y_train, epochs=3)\n",
        "\n",
        "\n",
        "\n",
        "test_loss, test_acc = deep_model.evaluate(x_test,  y_test, verbose=2)\n",
        "print(test_acc)"
      ]
    },
    {
      "cell_type": "code",
      "execution_count": null,
      "metadata": {
        "id": "Jx3YB47RxRyT"
      },
      "outputs": [],
      "source": []
    },
    {
      "cell_type": "markdown",
      "metadata": {
        "id": "Idj89CUPzidE"
      },
      "source": [
        "#question 2#\n"
      ]
    },
    {
      "cell_type": "code",
      "execution_count": null,
      "metadata": {
        "id": "cX_yjfW9zlaI"
      },
      "outputs": [],
      "source": [
        "#Data preperation\n",
        "from tensorflow.keras.datasets import cifar10\n",
        "(x_train, y_train), (x_test, y_test) = cifar10.load_data()"
      ]
    },
    {
      "cell_type": "code",
      "execution_count": null,
      "metadata": {
        "id": "AzbSysBJ2DkD"
      },
      "outputs": [],
      "source": [
        "model_1 = tf.keras.Sequential([\n",
        "    tf.keras.layers.Conv2D(32, (3, 3), activation='relu', input_shape=(32, 32, 3)),\n",
        "    tf.keras.layers.MaxPooling2D((2, 2)),\n",
        "    tf.keras.layers.Conv2D(64, (3, 3), activation='relu'),\n",
        "    tf.keras.layers.MaxPooling2D((2, 2)),\n",
        "    tf.keras.layers.Flatten(),\n",
        "    tf.keras.layers.Dense(128, activation='relu'),\n",
        "    tf.keras.layers.Dropout(0.2),\n",
        "    tf.keras.layers.Dense(10, activation='softmax')\n",
        "])"
      ]
    },
    {
      "cell_type": "code",
      "execution_count": null,
      "metadata": {
        "id": "Fg5OkQfE8VDp"
      },
      "outputs": [],
      "source": [
        "model_2 = tf.keras.Sequential([\n",
        "    tf.keras.layers.Conv2D(32, (3, 3), activation='relu', input_shape=(32, 32, 3)),\n",
        "    tf.keras.layers.MaxPooling2D((2, 2)),\n",
        "    tf.keras.layers.Conv2D(64, (5, 5), activation='relu'),\n",
        "    tf.keras.layers.MaxPooling2D((2, 2)),\n",
        "    tf.keras.layers.Flatten(),\n",
        "    tf.keras.layers.Dense(128, activation='relu'),\n",
        "    tf.keras.layers.Dropout(0.2),\n",
        "    tf.keras.layers.Dense(10, activation='softmax')\n",
        "])"
      ]
    },
    {
      "cell_type": "code",
      "execution_count": null,
      "metadata": {
        "id": "BLmMMIQY8aLc"
      },
      "outputs": [],
      "source": [
        "model_3 = tf.keras.Sequential([\n",
        "    tf.keras.layers.Conv2D(32, (3, 3), activation='relu', input_shape=(32, 32, 3)),\n",
        "    tf.keras.layers.MaxPooling2D((2, 2)),\n",
        "    tf.keras.layers.Conv2D(64, (5, 5), activation='relu'),\n",
        "    tf.keras.layers.MaxPooling2D((2, 2)),\n",
        "    tf.keras.layers.Conv2D(32, (3, 3), activation='relu'),\n",
        "    tf.keras.layers.MaxPooling2D((2, 2)),\n",
        "    tf.keras.layers.Flatten(),\n",
        "    tf.keras.layers.Dense(128, activation='relu'),\n",
        "    tf.keras.layers.Dropout(0.2),\n",
        "    tf.keras.layers.Dense(10, activation='softmax')\n",
        "])"
      ]
    },
    {
      "cell_type": "code",
      "execution_count": null,
      "metadata": {
        "colab": {
          "base_uri": "https://localhost:8080/"
        },
        "id": "8r5_uVO99Jy7",
        "outputId": "3d9e64fb-3712-416d-c111-8a8a3324b6eb"
      },
      "outputs": [
        {
          "name": "stdout",
          "output_type": "stream",
          "text": [
            "Epoch 1/5\n"
          ]
        },
        {
          "name": "stderr",
          "output_type": "stream",
          "text": [
            "/usr/local/lib/python3.10/dist-packages/keras/src/backend.py:5729: UserWarning: \"`sparse_categorical_crossentropy` received `from_logits=True`, but the `output` argument was produced by a Softmax activation and thus does not represent logits. Was this intended?\n",
            "  output, from_logits = _get_logits(\n"
          ]
        },
        {
          "name": "stdout",
          "output_type": "stream",
          "text": [
            "1563/1563 [==============================] - 85s 54ms/step - loss: 2.1831 - accuracy: 0.3014 - val_loss: 1.5730 - val_accuracy: 0.4240\n",
            "Epoch 2/5\n",
            "1563/1563 [==============================] - 63s 41ms/step - loss: 1.5093 - accuracy: 0.4566 - val_loss: 1.3554 - val_accuracy: 0.5152\n",
            "Epoch 3/5\n",
            "1563/1563 [==============================] - 67s 43ms/step - loss: 1.3246 - accuracy: 0.5343 - val_loss: 1.2921 - val_accuracy: 0.5494\n",
            "Epoch 4/5\n",
            "1563/1563 [==============================] - 66s 42ms/step - loss: 1.2048 - accuracy: 0.5776 - val_loss: 1.1888 - val_accuracy: 0.5888\n",
            "Epoch 5/5\n",
            "1563/1563 [==============================] - 78s 50ms/step - loss: 1.1091 - accuracy: 0.6129 - val_loss: 1.1171 - val_accuracy: 0.6148\n",
            "313/313 - 5s - loss: 1.1171 - accuracy: 0.6148 - 5s/epoch - 16ms/step\n",
            "0.614799976348877\n"
          ]
        }
      ],
      "source": [
        "model_1.compile(optimizer='adam',\n",
        "              loss=tf.keras.losses.SparseCategoricalCrossentropy(from_logits=True),\n",
        "              metrics=['accuracy'])\n",
        "model_1.fit(x_train, y_train, epochs=5,validation_data=(x_test, y_test))\n",
        "\n",
        "\n",
        "\n",
        "\n",
        "\n",
        "test_loss, test_acc = model_1.evaluate(x_test,  y_test, verbose=2)\n",
        "print(test_acc)\n"
      ]
    },
    {
      "cell_type": "code",
      "execution_count": null,
      "metadata": {
        "colab": {
          "base_uri": "https://localhost:8080/"
        },
        "id": "vcrLpM-D9ton",
        "outputId": "150dad82-86a0-4b64-c54b-b69a8ea0d64b"
      },
      "outputs": [
        {
          "name": "stdout",
          "output_type": "stream",
          "text": [
            "Epoch 1/5\n",
            "1563/1563 [==============================] - 92s 58ms/step - loss: 2.4796 - accuracy: 0.1079 - val_loss: 2.2871 - val_accuracy: 0.1397\n",
            "Epoch 2/5\n",
            "1563/1563 [==============================] - 87s 55ms/step - loss: 2.2244 - accuracy: 0.1583 - val_loss: 1.8053 - val_accuracy: 0.3363\n",
            "Epoch 3/5\n",
            "1563/1563 [==============================] - 86s 55ms/step - loss: 1.6276 - accuracy: 0.4109 - val_loss: 1.4890 - val_accuracy: 0.4745\n",
            "Epoch 4/5\n",
            "1563/1563 [==============================] - 85s 54ms/step - loss: 1.3888 - accuracy: 0.5036 - val_loss: 1.2841 - val_accuracy: 0.5533\n",
            "Epoch 5/5\n",
            "1563/1563 [==============================] - 85s 55ms/step - loss: 1.2645 - accuracy: 0.5538 - val_loss: 1.3240 - val_accuracy: 0.5406\n",
            "313/313 - 4s - loss: 1.3240 - accuracy: 0.5406 - 4s/epoch - 13ms/step\n",
            "0.5406000018119812\n"
          ]
        }
      ],
      "source": [
        "model_2.compile(optimizer='adam',\n",
        "              loss=tf.keras.losses.SparseCategoricalCrossentropy(from_logits=True),\n",
        "              metrics=['accuracy'])\n",
        "model_2.fit(x_train, y_train, epochs=5,validation_data=(x_test, y_test))\n",
        "\n",
        "\n",
        "\n",
        "\n",
        "\n",
        "test_loss, test_acc = model_2.evaluate(x_test,  y_test, verbose=2)\n",
        "print(test_acc)"
      ]
    },
    {
      "cell_type": "code",
      "execution_count": null,
      "metadata": {
        "colab": {
          "base_uri": "https://localhost:8080/"
        },
        "id": "_2qINBmn9vtT",
        "outputId": "0f2eb74a-f275-42e1-acd3-13155dcf5ec2"
      },
      "outputs": [
        {
          "name": "stdout",
          "output_type": "stream",
          "text": [
            "Epoch 1/5\n",
            "1563/1563 [==============================] - 88s 55ms/step - loss: 2.3441 - accuracy: 0.0972 - val_loss: 2.3026 - val_accuracy: 0.1001\n",
            "Epoch 2/5\n",
            "1563/1563 [==============================] - 86s 55ms/step - loss: 2.3033 - accuracy: 0.0979 - val_loss: 2.3029 - val_accuracy: 0.1001\n",
            "Epoch 3/5\n",
            "1563/1563 [==============================] - 86s 55ms/step - loss: 2.3029 - accuracy: 0.0964 - val_loss: 2.3027 - val_accuracy: 0.1000\n",
            "Epoch 4/5\n",
            "1563/1563 [==============================] - 87s 56ms/step - loss: 2.3028 - accuracy: 0.0976 - val_loss: 2.3026 - val_accuracy: 0.1000\n",
            "Epoch 5/5\n",
            "1563/1563 [==============================] - 86s 55ms/step - loss: 2.3028 - accuracy: 0.0984 - val_loss: 2.3027 - val_accuracy: 0.1000\n",
            "313/313 - 4s - loss: 2.3027 - accuracy: 0.1000 - 4s/epoch - 13ms/step\n",
            "0.10000000149011612\n"
          ]
        }
      ],
      "source": [
        "model_3.compile(optimizer='adam',\n",
        "              loss=tf.keras.losses.SparseCategoricalCrossentropy(from_logits=True),\n",
        "              metrics=['accuracy'])\n",
        "model_3.fit(x_train, y_train, epochs=5,validation_data=(x_test, y_test))\n",
        "\n",
        "\n",
        "\n",
        "\n",
        "\n",
        "test_loss, test_acc = model_3.evaluate(x_test,  y_test, verbose=2)\n",
        "print(test_acc)"
      ]
    },
    {
      "cell_type": "code",
      "execution_count": null,
      "metadata": {
        "colab": {
          "background_save": true,
          "base_uri": "https://localhost:8080/"
        },
        "id": "KOpmDysv-b1Q",
        "outputId": "a8190d38-7417-40aa-a45c-fae6613ac8ca"
      },
      "outputs": [
        {
          "name": "stdout",
          "output_type": "stream",
          "text": [
            "Epoch 1/5\n",
            "1563/1563 [==============================] - 79s 50ms/step - loss: 2.3114 - accuracy: 0.0987 - val_loss: 2.3042 - val_accuracy: 0.1000\n",
            "Epoch 2/5\n",
            "1563/1563 [==============================] - 70s 44ms/step - loss: 2.3039 - accuracy: 0.0990 - val_loss: 2.3040 - val_accuracy: 0.1000\n",
            "Epoch 3/5\n",
            "1563/1563 [==============================] - 74s 47ms/step - loss: 2.3039 - accuracy: 0.1003 - val_loss: 2.3044 - val_accuracy: 0.1000\n",
            "Epoch 4/5\n",
            "1563/1563 [==============================] - 68s 43ms/step - loss: 2.3041 - accuracy: 0.0982 - val_loss: 2.3037 - val_accuracy: 0.1000\n",
            "Epoch 5/5\n",
            "1563/1563 [==============================] - 70s 45ms/step - loss: 2.3039 - accuracy: 0.1000 - val_loss: 2.3032 - val_accuracy: 0.1000\n",
            "Epoch 1/5\n",
            "1563/1563 [==============================] - 71s 45ms/step - loss: 2.3052 - accuracy: 0.1020 - val_loss: 2.3050 - val_accuracy: 0.1000\n",
            "Epoch 2/5\n",
            "1563/1563 [==============================] - 68s 43ms/step - loss: 2.3053 - accuracy: 0.0973 - val_loss: 2.3043 - val_accuracy: 0.1000\n",
            "Epoch 3/5\n",
            "1563/1563 [==============================] - 69s 44ms/step - loss: 2.3056 - accuracy: 0.0980 - val_loss: 2.3048 - val_accuracy: 0.1000\n",
            "Epoch 4/5\n",
            "1563/1563 [==============================] - 67s 43ms/step - loss: 2.3053 - accuracy: 0.0989 - val_loss: 2.3052 - val_accuracy: 0.1000\n",
            "Epoch 5/5\n",
            "1563/1563 [==============================] - 69s 44ms/step - loss: 2.3052 - accuracy: 0.1019 - val_loss: 2.3052 - val_accuracy: 0.1000\n",
            "Epoch 1/5\n",
            "1563/1563 [==============================] - 69s 44ms/step - loss: 2.3068 - accuracy: 0.1016 - val_loss: 2.3068 - val_accuracy: 0.1000\n",
            "Epoch 2/5\n",
            "1563/1563 [==============================] - 68s 43ms/step - loss: 2.3066 - accuracy: 0.1007 - val_loss: 2.3058 - val_accuracy: 0.1000\n",
            "Epoch 3/5\n",
            "1563/1563 [==============================] - 67s 43ms/step - loss: 2.3063 - accuracy: 0.0982 - val_loss: 2.3077 - val_accuracy: 0.1000\n",
            "Epoch 4/5\n",
            "1563/1563 [==============================] - 65s 42ms/step - loss: 2.3064 - accuracy: 0.1003 - val_loss: 2.3084 - val_accuracy: 0.1000\n",
            "Epoch 5/5\n",
            "1563/1563 [==============================] - 67s 43ms/step - loss: 2.3067 - accuracy: 0.0996 - val_loss: 2.3065 - val_accuracy: 0.1000\n",
            "Epoch 1/5\n",
            "1563/1563 [==============================] - 70s 44ms/step - loss: 2.3079 - accuracy: 0.0994 - val_loss: 2.3085 - val_accuracy: 0.1000\n",
            "Epoch 2/5\n",
            "1563/1563 [==============================] - 68s 43ms/step - loss: 2.3078 - accuracy: 0.1012 - val_loss: 2.3085 - val_accuracy: 0.1000\n",
            "Epoch 3/5\n",
            "1563/1563 [==============================] - 68s 44ms/step - loss: 2.3077 - accuracy: 0.0998 - val_loss: 2.3094 - val_accuracy: 0.1000\n",
            "Epoch 4/5\n",
            "1563/1563 [==============================] - 65s 42ms/step - loss: 2.3073 - accuracy: 0.1033 - val_loss: 2.3146 - val_accuracy: 0.1000\n",
            "Epoch 5/5\n",
            "1563/1563 [==============================] - 67s 43ms/step - loss: 2.3080 - accuracy: 0.0981 - val_loss: 2.3059 - val_accuracy: 0.1000\n",
            "Epoch 1/5\n",
            "1563/1563 [==============================] - 68s 43ms/step - loss: 2.3088 - accuracy: 0.0992 - val_loss: 2.3082 - val_accuracy: 0.1000\n",
            "Epoch 2/5\n",
            "1563/1563 [==============================] - 65s 42ms/step - loss: 2.3092 - accuracy: 0.1013 - val_loss: 2.3078 - val_accuracy: 0.1000\n",
            "Epoch 3/5\n",
            "1563/1563 [==============================] - 67s 43ms/step - loss: 2.3096 - accuracy: 0.1007 - val_loss: 2.3131 - val_accuracy: 0.1000\n",
            "Epoch 4/5\n",
            "1563/1563 [==============================] - 67s 43ms/step - loss: 2.3099 - accuracy: 0.0989 - val_loss: 2.3072 - val_accuracy: 0.1000\n",
            "Epoch 5/5\n",
            "1563/1563 [==============================] - 67s 43ms/step - loss: 2.3099 - accuracy: 0.0980 - val_loss: 2.3081 - val_accuracy: 0.1000\n",
            "Epoch 1/5\n",
            "1563/1563 [==============================] - 68s 43ms/step - loss: 2.3106 - accuracy: 0.0987 - val_loss: 2.3116 - val_accuracy: 0.1000\n",
            "Epoch 2/5\n",
            "1563/1563 [==============================] - 67s 43ms/step - loss: 2.3110 - accuracy: 0.1023 - val_loss: 2.3104 - val_accuracy: 0.1000\n",
            "Epoch 3/5\n",
            "1563/1563 [==============================] - 72s 46ms/step - loss: 2.3098 - accuracy: 0.1010 - val_loss: 2.3090 - val_accuracy: 0.1000\n",
            "Epoch 4/5\n",
            "1563/1563 [==============================] - 65s 42ms/step - loss: 2.3105 - accuracy: 0.0994 - val_loss: 2.3113 - val_accuracy: 0.1000\n",
            "Epoch 5/5\n",
            "1563/1563 [==============================] - 68s 43ms/step - loss: 2.3105 - accuracy: 0.0996 - val_loss: 2.3072 - val_accuracy: 0.1000\n",
            "Epoch 1/5\n",
            "1563/1563 [==============================] - 69s 43ms/step - loss: 2.3123 - accuracy: 0.0976 - val_loss: 2.3089 - val_accuracy: 0.1000\n",
            "Epoch 2/5\n",
            "1563/1563 [==============================] - 67s 43ms/step - loss: 2.3124 - accuracy: 0.1008 - val_loss: 2.3152 - val_accuracy: 0.1000\n",
            "Epoch 3/5\n",
            "1563/1563 [==============================] - 67s 43ms/step - loss: 2.3113 - accuracy: 0.1002 - val_loss: 2.3173 - val_accuracy: 0.1000\n",
            "Epoch 4/5\n",
            "1563/1563 [==============================] - 63s 41ms/step - loss: 2.3111 - accuracy: 0.1020 - val_loss: 2.3179 - val_accuracy: 0.1000\n",
            "Epoch 5/5\n",
            "1563/1563 [==============================] - 64s 41ms/step - loss: 2.3121 - accuracy: 0.0989 - val_loss: 2.3070 - val_accuracy: 0.1000\n",
            "Epoch 1/5\n",
            "1563/1563 [==============================] - 64s 40ms/step - loss: 2.3121 - accuracy: 0.1009 - val_loss: 2.3140 - val_accuracy: 0.1000\n",
            "Epoch 2/5\n",
            "1563/1563 [==============================] - 66s 42ms/step - loss: 2.3140 - accuracy: 0.1001 - val_loss: 2.3169 - val_accuracy: 0.1000\n",
            "Epoch 3/5\n",
            "1563/1563 [==============================] - 66s 42ms/step - loss: 2.3130 - accuracy: 0.0972 - val_loss: 2.3167 - val_accuracy: 0.1000\n",
            "Epoch 4/5\n",
            "1563/1563 [==============================] - 64s 41ms/step - loss: 2.3129 - accuracy: 0.0987 - val_loss: 2.3164 - val_accuracy: 0.1000\n",
            "Epoch 5/5\n",
            "1563/1563 [==============================] - 64s 41ms/step - loss: 2.3129 - accuracy: 0.1012 - val_loss: 2.3113 - val_accuracy: 0.1000\n",
            "Epoch 1/5\n",
            "1563/1563 [==============================] - 65s 41ms/step - loss: 2.3145 - accuracy: 0.0991 - val_loss: 2.3140 - val_accuracy: 0.1000\n",
            "Epoch 2/5\n",
            "1563/1563 [==============================] - 61s 39ms/step - loss: 2.3145 - accuracy: 0.0989 - val_loss: 2.3100 - val_accuracy: 0.1000\n",
            "Epoch 3/5\n",
            "1563/1563 [==============================] - 62s 40ms/step - loss: 2.3140 - accuracy: 0.1006 - val_loss: 2.3198 - val_accuracy: 0.1000\n",
            "Epoch 4/5\n",
            "1563/1563 [==============================] - 62s 40ms/step - loss: 2.3143 - accuracy: 0.0994 - val_loss: 2.3156 - val_accuracy: 0.1000\n",
            "Epoch 5/5\n",
            "1563/1563 [==============================] - 61s 39ms/step - loss: 2.3146 - accuracy: 0.0986 - val_loss: 2.3076 - val_accuracy: 0.1000\n",
            "Epoch 1/5\n",
            "1563/1563 [==============================] - 64s 40ms/step - loss: 2.3156 - accuracy: 0.1005 - val_loss: 2.3128 - val_accuracy: 0.1000\n",
            "Epoch 2/5\n",
            "1563/1563 [==============================] - 62s 39ms/step - loss: 2.3158 - accuracy: 0.1015 - val_loss: 2.3091 - val_accuracy: 0.1000\n",
            "Epoch 3/5\n",
            "1563/1563 [==============================] - 62s 40ms/step - loss: 2.3160 - accuracy: 0.1011 - val_loss: 2.3172 - val_accuracy: 0.1000\n",
            "Epoch 4/5\n",
            "1563/1563 [==============================] - 63s 40ms/step - loss: 2.3150 - accuracy: 0.1029 - val_loss: 2.3120 - val_accuracy: 0.1000\n",
            "Epoch 5/5\n",
            "1563/1563 [==============================] - 62s 40ms/step - loss: 2.3147 - accuracy: 0.1006 - val_loss: 2.3092 - val_accuracy: 0.1000\n"
          ]
        }
      ],
      "source": [
        "learning_rates = [0.01, 0.02, 0.03, 0.04, 0.05, 0.06, 0.07, 0.08, 0.09, 0.1]\n",
        "\n",
        "accuracies = []\n",
        "learning_rate_values = []\n",
        "\n",
        "\n",
        "for i in learning_rates:\n",
        "\n",
        "    model = model_1\n",
        "    model.compile(optimizer=tf.keras.optimizers.Adam(learning_rate=i), loss='sparse_categorical_crossentropy', metrics=['accuracy'])\n",
        "\n",
        "\n",
        "    history = model.fit(x_train, y_train, epochs=5, batch_size=32, validation_data=(x_test,y_test))\n",
        "\n",
        "\n",
        "    final_accuracy = history.history['accuracy'][-1]\n",
        "\n",
        "    accuracies.append(final_accuracy)\n",
        "    learning_rate_values.append(i)\n",
        "\n"
      ]
    },
    {
      "cell_type": "code",
      "execution_count": null,
      "metadata": {
        "colab": {
          "background_save": true,
          "base_uri": "https://localhost:8080/"
        },
        "id": "USPr3c7L_h5i",
        "outputId": "7477918c-4892-4f40-a032-616d174d7d1f"
      },
      "outputs": [
        {
          "name": "stdout",
          "output_type": "stream",
          "text": [
            "Epoch 1/5\n",
            "6250/6250 [==============================] - 91s 14ms/step - loss: nan - accuracy: 0.1000 - val_loss: nan - val_accuracy: 0.1000\n",
            "Epoch 2/5\n",
            "6250/6250 [==============================] - 90s 14ms/step - loss: nan - accuracy: 0.1000 - val_loss: nan - val_accuracy: 0.1000\n",
            "Epoch 3/5\n",
            "6250/6250 [==============================] - 89s 14ms/step - loss: nan - accuracy: 0.1000 - val_loss: nan - val_accuracy: 0.1000\n",
            "Epoch 4/5\n",
            "6250/6250 [==============================] - 85s 14ms/step - loss: nan - accuracy: 0.1000 - val_loss: nan - val_accuracy: 0.1000\n",
            "Epoch 5/5\n",
            "6250/6250 [==============================] - 85s 14ms/step - loss: nan - accuracy: 0.1000 - val_loss: nan - val_accuracy: 0.1000\n",
            "Epoch 1/5\n",
            "3125/3125 [==============================] - 69s 22ms/step - loss: nan - accuracy: 0.1000 - val_loss: nan - val_accuracy: 0.1000\n",
            "Epoch 2/5\n",
            "3125/3125 [==============================] - 68s 22ms/step - loss: nan - accuracy: 0.1000 - val_loss: nan - val_accuracy: 0.1000\n",
            "Epoch 3/5\n",
            "3125/3125 [==============================] - 68s 22ms/step - loss: nan - accuracy: 0.1000 - val_loss: nan - val_accuracy: 0.1000\n",
            "Epoch 4/5\n",
            "3125/3125 [==============================] - 68s 22ms/step - loss: nan - accuracy: 0.1000 - val_loss: nan - val_accuracy: 0.1000\n",
            "Epoch 5/5\n",
            "3125/3125 [==============================] - 69s 22ms/step - loss: nan - accuracy: 0.1000 - val_loss: nan - val_accuracy: 0.1000\n",
            "Epoch 1/5\n",
            "1563/1563 [==============================] - 59s 38ms/step - loss: nan - accuracy: 0.1000 - val_loss: nan - val_accuracy: 0.1000\n",
            "Epoch 2/5\n",
            "1563/1563 [==============================] - 60s 38ms/step - loss: nan - accuracy: 0.1000 - val_loss: nan - val_accuracy: 0.1000\n",
            "Epoch 3/5\n",
            "1563/1563 [==============================] - 59s 38ms/step - loss: nan - accuracy: 0.1000 - val_loss: nan - val_accuracy: 0.1000\n",
            "Epoch 4/5\n",
            "1563/1563 [==============================] - 61s 39ms/step - loss: nan - accuracy: 0.1000 - val_loss: nan - val_accuracy: 0.1000\n",
            "Epoch 5/5\n",
            "1563/1563 [==============================] - 59s 38ms/step - loss: nan - accuracy: 0.1000 - val_loss: nan - val_accuracy: 0.1000\n",
            "Epoch 1/5\n",
            "782/782 [==============================] - 57s 73ms/step - loss: nan - accuracy: 0.1000 - val_loss: nan - val_accuracy: 0.1000\n",
            "Epoch 2/5\n",
            "782/782 [==============================] - 55s 71ms/step - loss: nan - accuracy: 0.1000 - val_loss: nan - val_accuracy: 0.1000\n",
            "Epoch 3/5\n",
            "782/782 [==============================] - 53s 67ms/step - loss: nan - accuracy: 0.1000 - val_loss: nan - val_accuracy: 0.1000\n",
            "Epoch 4/5\n",
            "782/782 [==============================] - 55s 71ms/step - loss: nan - accuracy: 0.1000 - val_loss: nan - val_accuracy: 0.1000\n",
            "Epoch 5/5\n",
            "782/782 [==============================] - 54s 69ms/step - loss: nan - accuracy: 0.1000 - val_loss: nan - val_accuracy: 0.1000\n",
            "Epoch 1/5\n",
            "391/391 [==============================] - 52s 131ms/step - loss: nan - accuracy: 0.1000 - val_loss: nan - val_accuracy: 0.1000\n",
            "Epoch 2/5\n",
            "391/391 [==============================] - 50s 128ms/step - loss: nan - accuracy: 0.1000 - val_loss: nan - val_accuracy: 0.1000\n",
            "Epoch 3/5\n",
            "391/391 [==============================] - 50s 128ms/step - loss: nan - accuracy: 0.1000 - val_loss: nan - val_accuracy: 0.1000\n",
            "Epoch 4/5\n",
            "391/391 [==============================] - 51s 131ms/step - loss: nan - accuracy: 0.1000 - val_loss: nan - val_accuracy: 0.1000\n",
            "Epoch 5/5\n",
            "391/391 [==============================] - 52s 133ms/step - loss: nan - accuracy: 0.1000 - val_loss: nan - val_accuracy: 0.1000\n",
            "Epoch 1/5\n",
            "196/196 [==============================] - 51s 254ms/step - loss: nan - accuracy: 0.1000 - val_loss: nan - val_accuracy: 0.1000\n",
            "Epoch 2/5\n",
            "196/196 [==============================] - 49s 251ms/step - loss: nan - accuracy: 0.1000 - val_loss: nan - val_accuracy: 0.1000\n",
            "Epoch 3/5\n",
            "196/196 [==============================] - 49s 252ms/step - loss: nan - accuracy: 0.1000 - val_loss: nan - val_accuracy: 0.1000\n",
            "Epoch 4/5\n",
            "196/196 [==============================] - 51s 259ms/step - loss: nan - accuracy: 0.1000 - val_loss: nan - val_accuracy: 0.1000\n",
            "Epoch 5/5\n",
            "196/196 [==============================] - 48s 243ms/step - loss: nan - accuracy: 0.1000 - val_loss: nan - val_accuracy: 0.1000\n",
            "Epoch 1/5\n",
            "98/98 [==============================] - 54s 541ms/step - loss: nan - accuracy: 0.1000 - val_loss: nan - val_accuracy: 0.1000\n",
            "Epoch 2/5\n",
            "98/98 [==============================] - 53s 541ms/step - loss: nan - accuracy: 0.1000 - val_loss: nan - val_accuracy: 0.1000\n",
            "Epoch 3/5\n",
            "98/98 [==============================] - 51s 517ms/step - loss: nan - accuracy: 0.1000 - val_loss: nan - val_accuracy: 0.1000\n",
            "Epoch 4/5\n",
            "98/98 [==============================] - 52s 531ms/step - loss: nan - accuracy: 0.1000 - val_loss: nan - val_accuracy: 0.1000\n",
            "Epoch 5/5\n",
            "98/98 [==============================] - 50s 508ms/step - loss: nan - accuracy: 0.1000 - val_loss: nan - val_accuracy: 0.1000\n"
          ]
        }
      ],
      "source": [
        "batch_sizes = [8, 16, 32, 64, 128, 256, 512]\n",
        "\n",
        "\n",
        "accuracies = []\n",
        "batch_size_val = []\n",
        "\n",
        "\n",
        "for i in batch_sizes:\n",
        "\n",
        "    model = model_1\n",
        "    model.compile(optimizer=tf.keras.optimizers.adam(learning_rate=0.01), loss='sparse_categorical_crossentropy', metrics=['accuracy'])\n",
        "\n",
        "\n",
        "    history = model.fit(x_train, y_train, epochs=5, batch_size=i, validation_data=(x_test,y_test))\n",
        "\n",
        "\n",
        "    final_accuracy = history.history['accuracy'][-1]\n",
        "\n",
        "    accuracies.append(final_accuracy)\n",
        "    batch_size_val.append(i)\n",
        "\n"
      ]
    },
    {
      "cell_type": "code",
      "execution_count": null,
      "metadata": {
        "colab": {
          "background_save": true
        },
        "id": "os8Itmt__7ek",
        "outputId": "2cd3bb66-40a3-495f-d1a9-0198b90d942f"
      },
      "outputs": [
        {
          "ename": "ValueError",
          "evalue": "ignored",
          "output_type": "error",
          "traceback": [
            "\u001b[0;31m---------------------------------------------------------------------------\u001b[0m",
            "\u001b[0;31mValueError\u001b[0m                                Traceback (most recent call last)",
            "\u001b[0;32m<ipython-input-36-992c4bc66925>\u001b[0m in \u001b[0;36m<cell line: 6>\u001b[0;34m()\u001b[0m\n\u001b[1;32m     13\u001b[0m     \u001b[0mtf\u001b[0m\u001b[0;34m.\u001b[0m\u001b[0mkeras\u001b[0m\u001b[0;34m.\u001b[0m\u001b[0mlayers\u001b[0m\u001b[0;34m.\u001b[0m\u001b[0mFlatten\u001b[0m\u001b[0;34m(\u001b[0m\u001b[0;34m)\u001b[0m\u001b[0;34m,\u001b[0m\u001b[0;34m\u001b[0m\u001b[0;34m\u001b[0m\u001b[0m\n\u001b[1;32m     14\u001b[0m     \u001b[0mtf\u001b[0m\u001b[0;34m.\u001b[0m\u001b[0mkeras\u001b[0m\u001b[0;34m.\u001b[0m\u001b[0mlayers\u001b[0m\u001b[0;34m.\u001b[0m\u001b[0mDense\u001b[0m\u001b[0;34m(\u001b[0m\u001b[0;36m128\u001b[0m\u001b[0;34m,\u001b[0m \u001b[0mactivation\u001b[0m\u001b[0;34m=\u001b[0m\u001b[0;34m'relu'\u001b[0m\u001b[0;34m)\u001b[0m\u001b[0;34m,\u001b[0m\u001b[0;34m\u001b[0m\u001b[0;34m\u001b[0m\u001b[0m\n\u001b[0;32m---> 15\u001b[0;31m     \u001b[0mtf\u001b[0m\u001b[0;34m.\u001b[0m\u001b[0mkeras\u001b[0m\u001b[0;34m.\u001b[0m\u001b[0mlayers\u001b[0m\u001b[0;34m.\u001b[0m\u001b[0mDropout\u001b[0m\u001b[0;34m(\u001b[0m\u001b[0mi\u001b[0m\u001b[0;34m)\u001b[0m\u001b[0;34m,\u001b[0m\u001b[0;34m\u001b[0m\u001b[0;34m\u001b[0m\u001b[0m\n\u001b[0m\u001b[1;32m     16\u001b[0m     \u001b[0mtf\u001b[0m\u001b[0;34m.\u001b[0m\u001b[0mkeras\u001b[0m\u001b[0;34m.\u001b[0m\u001b[0mlayers\u001b[0m\u001b[0;34m.\u001b[0m\u001b[0mDense\u001b[0m\u001b[0;34m(\u001b[0m\u001b[0;36m10\u001b[0m\u001b[0;34m,\u001b[0m \u001b[0mactivation\u001b[0m\u001b[0;34m=\u001b[0m\u001b[0;34m'softmax'\u001b[0m\u001b[0;34m)\u001b[0m\u001b[0;34m\u001b[0m\u001b[0;34m\u001b[0m\u001b[0m\n\u001b[1;32m     17\u001b[0m     ])\n",
            "\u001b[0;32m/usr/local/lib/python3.10/dist-packages/keras/src/layers/regularization/dropout.py\u001b[0m in \u001b[0;36m__init__\u001b[0;34m(self, rate, noise_shape, seed, **kwargs)\u001b[0m\n\u001b[1;32m     82\u001b[0m         \u001b[0msuper\u001b[0m\u001b[0;34m(\u001b[0m\u001b[0;34m)\u001b[0m\u001b[0;34m.\u001b[0m\u001b[0m__init__\u001b[0m\u001b[0;34m(\u001b[0m\u001b[0mseed\u001b[0m\u001b[0;34m=\u001b[0m\u001b[0mseed\u001b[0m\u001b[0;34m,\u001b[0m \u001b[0;34m**\u001b[0m\u001b[0mkwargs\u001b[0m\u001b[0;34m)\u001b[0m\u001b[0;34m\u001b[0m\u001b[0;34m\u001b[0m\u001b[0m\n\u001b[1;32m     83\u001b[0m         \u001b[0;32mif\u001b[0m \u001b[0misinstance\u001b[0m\u001b[0;34m(\u001b[0m\u001b[0mrate\u001b[0m\u001b[0;34m,\u001b[0m \u001b[0;34m(\u001b[0m\u001b[0mint\u001b[0m\u001b[0;34m,\u001b[0m \u001b[0mfloat\u001b[0m\u001b[0;34m)\u001b[0m\u001b[0;34m)\u001b[0m \u001b[0;32mand\u001b[0m \u001b[0;32mnot\u001b[0m \u001b[0;36m0\u001b[0m \u001b[0;34m<=\u001b[0m \u001b[0mrate\u001b[0m \u001b[0;34m<=\u001b[0m \u001b[0;36m1\u001b[0m\u001b[0;34m:\u001b[0m\u001b[0;34m\u001b[0m\u001b[0;34m\u001b[0m\u001b[0m\n\u001b[0;32m---> 84\u001b[0;31m             raise ValueError(\n\u001b[0m\u001b[1;32m     85\u001b[0m                 \u001b[0;34mf\"Invalid value {rate} received for \"\u001b[0m\u001b[0;34m\u001b[0m\u001b[0;34m\u001b[0m\u001b[0m\n\u001b[1;32m     86\u001b[0m                 \u001b[0;34m\"`rate`, expected a value between 0 and 1.\"\u001b[0m\u001b[0;34m\u001b[0m\u001b[0;34m\u001b[0m\u001b[0m\n",
            "\u001b[0;31mValueError\u001b[0m: Invalid value 8 received for `rate`, expected a value between 0 and 1."
          ]
        }
      ],
      "source": [
        "\n",
        "\n",
        "dropout_rates = [0.2, 0.25, 0.3, 0.35, 0.4, 0.45, 0.5]\n",
        "accuracies = []\n",
        "dropout_val = []\n",
        "\n",
        "\n",
        "for i in batch_sizes:\n",
        "    optimizer = tf.keras.optimizers.SGD(learning_rate=0.01)\n",
        "    model_1 = tf.keras.Sequential([\n",
        "    tf.keras.layers.Conv2D(32, (3, 3), activation='relu', input_shape=(32, 32, 3)),\n",
        "    tf.keras.layers.MaxPooling2D((2, 2)),\n",
        "    tf.keras.layers.Conv2D(64, (3, 3), activation='relu'),\n",
        "    tf.keras.layers.MaxPooling2D((2, 2)),\n",
        "    tf.keras.layers.Flatten(),\n",
        "    tf.keras.layers.Dense(128, activation='relu'),\n",
        "    tf.keras.layers.Dropout(i),\n",
        "    tf.keras.layers.Dense(10, activation='softmax')\n",
        "    ])\n",
        "    model.compile(optimizer=optimizer, loss='sparse_categorical_crossentropy', metrics=['accuracy'])\n",
        "\n",
        "\n",
        "    history = model.fit(x_train, y_train, epochs=5, batch_size=32, validation_data=(x_test,y_test))\n",
        "\n",
        "\n",
        "    final_accuracy = history.history['accuracy'][-1]\n",
        "\n",
        "    accuracies.append(final_accuracy)\n",
        "    dropout_val.append(i)\n",
        "\n"
      ]
    },
    {
      "cell_type": "code",
      "execution_count": null,
      "metadata": {
        "id": "WNKIMWkowNKe"
      },
      "outputs": [],
      "source": [
        "def show_img(img):\n",
        "  plt.figure(figsize=(10, 2))\n",
        "  for i in range(5):\n",
        "    plt.subplot(1, 5, i + 1)\n",
        "    plt.imshow(x_train[i])\n",
        "    plt.axis('off')\n",
        "  plt.show()\n"
      ]
    },
    {
      "cell_type": "code",
      "execution_count": null,
      "metadata": {
        "id": "gc96HjlPwPil"
      },
      "outputs": [],
      "source": [
        "def aug(image):\n",
        "  resize_and_rescale = tf.keras.Sequential([ tf.keras.layers.Resizing(32,32),tf.keras.layers.Rescaling(1./255)])\n",
        "  data_augmentation = tf.keras.Sequential([\n",
        "  tf.keras.layers.RandomFlip(\"horizontal_and_vertical\"),\n",
        "  tf.keras.layers.RandomRotation(0.9),])\n",
        "  res = resize_and_rescale(image)\n",
        "  img = data_augmentation(res)\n",
        "  return img\n"
      ]
    },
    {
      "cell_type": "code",
      "execution_count": null,
      "metadata": {
        "id": "2Fn56nTdwUpr"
      },
      "outputs": [],
      "source": [
        "img = aug(x_train)"
      ]
    },
    {
      "cell_type": "code",
      "execution_count": null,
      "metadata": {
        "id": "ff9xXgq3wXIo"
      },
      "outputs": [],
      "source": [
        "model_1.fit(img, y_train, epochs=5,validation_data=(x_test, y_test))"
      ]
    }
  ],
  "metadata": {
    "colab": {
      "provenance": []
    },
    "kernelspec": {
      "display_name": "Python 3",
      "name": "python3"
    },
    "language_info": {
      "name": "python"
    }
  },
  "nbformat": 4,
  "nbformat_minor": 0
}